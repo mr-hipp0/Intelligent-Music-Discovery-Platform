{
 "cells": [
  {
   "cell_type": "code",
   "execution_count": 1,
   "id": "35846a2d-c59d-4114-91d4-b0b7d65db011",
   "metadata": {},
   "outputs": [],
   "source": [
    "import pandas as pd"
   ]
  },
  {
   "cell_type": "code",
   "execution_count": 2,
   "id": "540402e0-610a-4321-9e11-de55ca5049b6",
   "metadata": {},
   "outputs": [],
   "source": [
    "df = pd.read_csv(\"spotify_millsongdata.csv\")"
   ]
  },
  {
   "cell_type": "code",
   "execution_count": 3,
   "id": "29f31c80-a4eb-40c4-9325-f6de984d34da",
   "metadata": {
    "scrolled": true
   },
   "outputs": [
    {
     "data": {
      "text/html": [
       "<div>\n",
       "<style scoped>\n",
       "    .dataframe tbody tr th:only-of-type {\n",
       "        vertical-align: middle;\n",
       "    }\n",
       "\n",
       "    .dataframe tbody tr th {\n",
       "        vertical-align: top;\n",
       "    }\n",
       "\n",
       "    .dataframe thead th {\n",
       "        text-align: right;\n",
       "    }\n",
       "</style>\n",
       "<table border=\"1\" class=\"dataframe\">\n",
       "  <thead>\n",
       "    <tr style=\"text-align: right;\">\n",
       "      <th></th>\n",
       "      <th>artist</th>\n",
       "      <th>song</th>\n",
       "      <th>link</th>\n",
       "      <th>text</th>\n",
       "    </tr>\n",
       "  </thead>\n",
       "  <tbody>\n",
       "    <tr>\n",
       "      <th>0</th>\n",
       "      <td>ABBA</td>\n",
       "      <td>Ahe's My Kind Of Girl</td>\n",
       "      <td>/a/abba/ahes+my+kind+of+girl_20598417.html</td>\n",
       "      <td>Look at her face, it's a wonderful face  \\r\\nA...</td>\n",
       "    </tr>\n",
       "    <tr>\n",
       "      <th>1</th>\n",
       "      <td>ABBA</td>\n",
       "      <td>Andante, Andante</td>\n",
       "      <td>/a/abba/andante+andante_20002708.html</td>\n",
       "      <td>Take it easy with me, please  \\r\\nTouch me gen...</td>\n",
       "    </tr>\n",
       "    <tr>\n",
       "      <th>2</th>\n",
       "      <td>ABBA</td>\n",
       "      <td>As Good As New</td>\n",
       "      <td>/a/abba/as+good+as+new_20003033.html</td>\n",
       "      <td>I'll never know why I had to go  \\r\\nWhy I had...</td>\n",
       "    </tr>\n",
       "    <tr>\n",
       "      <th>3</th>\n",
       "      <td>ABBA</td>\n",
       "      <td>Bang</td>\n",
       "      <td>/a/abba/bang_20598415.html</td>\n",
       "      <td>Making somebody happy is a question of give an...</td>\n",
       "    </tr>\n",
       "    <tr>\n",
       "      <th>4</th>\n",
       "      <td>ABBA</td>\n",
       "      <td>Bang-A-Boomerang</td>\n",
       "      <td>/a/abba/bang+a+boomerang_20002668.html</td>\n",
       "      <td>Making somebody happy is a question of give an...</td>\n",
       "    </tr>\n",
       "    <tr>\n",
       "      <th>...</th>\n",
       "      <td>...</td>\n",
       "      <td>...</td>\n",
       "      <td>...</td>\n",
       "      <td>...</td>\n",
       "    </tr>\n",
       "    <tr>\n",
       "      <th>775</th>\n",
       "      <td>Ariana Grande</td>\n",
       "      <td>Direct Contact</td>\n",
       "      <td>/a/ariana+grande/direct+contact_21066591.html</td>\n",
       "      <td>If you were mine, boy! There would no be no mo...</td>\n",
       "    </tr>\n",
       "    <tr>\n",
       "      <th>776</th>\n",
       "      <td>Ariana Grande</td>\n",
       "      <td>Higher</td>\n",
       "      <td>/a/ariana+grande/higher_20979966.html</td>\n",
       "      <td>(Hahaha) lalala uhuh  \\r\\nBeen runnin' 'round ...</td>\n",
       "    </tr>\n",
       "    <tr>\n",
       "      <th>777</th>\n",
       "      <td>Ariana Grande</td>\n",
       "      <td>Honeymoon Avenue</td>\n",
       "      <td>/a/ariana+grande/honeymoon+avenue_20996813.html</td>\n",
       "      <td>I looked in my rear view mirror and  \\r\\nIt se...</td>\n",
       "    </tr>\n",
       "    <tr>\n",
       "      <th>778</th>\n",
       "      <td>Ariana Grande</td>\n",
       "      <td>Just A Little Bit Of Your Heart</td>\n",
       "      <td>/a/ariana+grande/just+a+little+bit+of+your+hea...</td>\n",
       "      <td>[Verse 1]  \\r\\nOh, oh, oh, oh  \\r\\nI don't eve...</td>\n",
       "    </tr>\n",
       "    <tr>\n",
       "      <th>779</th>\n",
       "      <td>Ariana Grande</td>\n",
       "      <td>Not Just On Christmas</td>\n",
       "      <td>/a/ariana+grande/not+just+on+christmas_2110513...</td>\n",
       "      <td>[Refrain 1]  \\r\\nI'll love you till I die, boy...</td>\n",
       "    </tr>\n",
       "  </tbody>\n",
       "</table>\n",
       "<p>780 rows × 4 columns</p>\n",
       "</div>"
      ],
      "text/plain": [
       "            artist                             song  \\\n",
       "0             ABBA            Ahe's My Kind Of Girl   \n",
       "1             ABBA                 Andante, Andante   \n",
       "2             ABBA                   As Good As New   \n",
       "3             ABBA                             Bang   \n",
       "4             ABBA                 Bang-A-Boomerang   \n",
       "..             ...                              ...   \n",
       "775  Ariana Grande                   Direct Contact   \n",
       "776  Ariana Grande                           Higher   \n",
       "777  Ariana Grande                 Honeymoon Avenue   \n",
       "778  Ariana Grande  Just A Little Bit Of Your Heart   \n",
       "779  Ariana Grande            Not Just On Christmas   \n",
       "\n",
       "                                                  link  \\\n",
       "0           /a/abba/ahes+my+kind+of+girl_20598417.html   \n",
       "1                /a/abba/andante+andante_20002708.html   \n",
       "2                 /a/abba/as+good+as+new_20003033.html   \n",
       "3                           /a/abba/bang_20598415.html   \n",
       "4               /a/abba/bang+a+boomerang_20002668.html   \n",
       "..                                                 ...   \n",
       "775      /a/ariana+grande/direct+contact_21066591.html   \n",
       "776              /a/ariana+grande/higher_20979966.html   \n",
       "777    /a/ariana+grande/honeymoon+avenue_20996813.html   \n",
       "778  /a/ariana+grande/just+a+little+bit+of+your+hea...   \n",
       "779  /a/ariana+grande/not+just+on+christmas_2110513...   \n",
       "\n",
       "                                                  text  \n",
       "0    Look at her face, it's a wonderful face  \\r\\nA...  \n",
       "1    Take it easy with me, please  \\r\\nTouch me gen...  \n",
       "2    I'll never know why I had to go  \\r\\nWhy I had...  \n",
       "3    Making somebody happy is a question of give an...  \n",
       "4    Making somebody happy is a question of give an...  \n",
       "..                                                 ...  \n",
       "775  If you were mine, boy! There would no be no mo...  \n",
       "776  (Hahaha) lalala uhuh  \\r\\nBeen runnin' 'round ...  \n",
       "777  I looked in my rear view mirror and  \\r\\nIt se...  \n",
       "778  [Verse 1]  \\r\\nOh, oh, oh, oh  \\r\\nI don't eve...  \n",
       "779  [Refrain 1]  \\r\\nI'll love you till I die, boy...  \n",
       "\n",
       "[780 rows x 4 columns]"
      ]
     },
     "execution_count": 3,
     "metadata": {},
     "output_type": "execute_result"
    }
   ],
   "source": [
    "df.head(780)"
   ]
  },
  {
   "cell_type": "code",
   "execution_count": 4,
   "id": "6a39b4e9-234b-4b7d-9fae-24161d999dcf",
   "metadata": {},
   "outputs": [
    {
     "data": {
      "text/plain": [
       "artist    0\n",
       "song      0\n",
       "link      0\n",
       "text      0\n",
       "dtype: int64"
      ]
     },
     "execution_count": 4,
     "metadata": {},
     "output_type": "execute_result"
    }
   ],
   "source": [
    "df.isnull().sum()"
   ]
  },
  {
   "cell_type": "code",
   "execution_count": 5,
   "id": "8e4a377d-7944-4492-9e3d-e500b2c94c52",
   "metadata": {},
   "outputs": [],
   "source": [
    "df = df.sample(10000).drop('link', axis=1).reset_index(drop=True)"
   ]
  },
  {
   "cell_type": "code",
   "execution_count": 6,
   "id": "23e73afe-41b4-474a-aabc-52b162fdf6d3",
   "metadata": {},
   "outputs": [
    {
     "data": {
      "text/html": [
       "<div>\n",
       "<style scoped>\n",
       "    .dataframe tbody tr th:only-of-type {\n",
       "        vertical-align: middle;\n",
       "    }\n",
       "\n",
       "    .dataframe tbody tr th {\n",
       "        vertical-align: top;\n",
       "    }\n",
       "\n",
       "    .dataframe thead th {\n",
       "        text-align: right;\n",
       "    }\n",
       "</style>\n",
       "<table border=\"1\" class=\"dataframe\">\n",
       "  <thead>\n",
       "    <tr style=\"text-align: right;\">\n",
       "      <th></th>\n",
       "      <th>artist</th>\n",
       "      <th>song</th>\n",
       "      <th>text</th>\n",
       "    </tr>\n",
       "  </thead>\n",
       "  <tbody>\n",
       "    <tr>\n",
       "      <th>0</th>\n",
       "      <td>Linda Ronstadt</td>\n",
       "      <td>Anyone Who Had A Heart</td>\n",
       "      <td>Anyone who ever loved could look at me  \\r\\nAn...</td>\n",
       "    </tr>\n",
       "    <tr>\n",
       "      <th>1</th>\n",
       "      <td>Cliff Richard</td>\n",
       "      <td>Great Balls Of Fire</td>\n",
       "      <td>You shake my nerves and you rattle my brain  \\...</td>\n",
       "    </tr>\n",
       "    <tr>\n",
       "      <th>2</th>\n",
       "      <td>James Taylor</td>\n",
       "      <td>Family Man</td>\n",
       "      <td>Woah, Jocko, don't expect me  \\r\\nTo come out ...</td>\n",
       "    </tr>\n",
       "    <tr>\n",
       "      <th>3</th>\n",
       "      <td>Incubus</td>\n",
       "      <td>Paper Shoes</td>\n",
       "      <td>I fly  \\r\\nI soar  \\r\\nThis I  \\r\\nAdore  \\r\\n...</td>\n",
       "    </tr>\n",
       "    <tr>\n",
       "      <th>4</th>\n",
       "      <td>Halloween</td>\n",
       "      <td>Halloween Day</td>\n",
       "      <td>By Listen and Learn  \\r\\n  \\r\\nDo you know abo...</td>\n",
       "    </tr>\n",
       "    <tr>\n",
       "      <th>...</th>\n",
       "      <td>...</td>\n",
       "      <td>...</td>\n",
       "      <td>...</td>\n",
       "    </tr>\n",
       "    <tr>\n",
       "      <th>4995</th>\n",
       "      <td>Bob Seger</td>\n",
       "      <td>Boomtown Blues</td>\n",
       "      <td>Southern sun  \\r\\nRidin' high  \\r\\nWinter nigh...</td>\n",
       "    </tr>\n",
       "    <tr>\n",
       "      <th>4996</th>\n",
       "      <td>Oasis</td>\n",
       "      <td>I Wanna Live A Dream (In My Record Machine)</td>\n",
       "      <td>Help me, defy the light the shining on me  \\r\\...</td>\n",
       "    </tr>\n",
       "    <tr>\n",
       "      <th>4997</th>\n",
       "      <td>Boney M.</td>\n",
       "      <td>Lady Godiva</td>\n",
       "      <td>Her name was Lady Godiva  \\r\\nA lady so brave ...</td>\n",
       "    </tr>\n",
       "    <tr>\n",
       "      <th>4998</th>\n",
       "      <td>Ziggy Marley</td>\n",
       "      <td>Beach In Hawaii</td>\n",
       "      <td>On the beach in Hawaii  \\r\\n  \\r\\nI wish you w...</td>\n",
       "    </tr>\n",
       "    <tr>\n",
       "      <th>4999</th>\n",
       "      <td>Les Miserables</td>\n",
       "      <td>The Waltz Of Treachery</td>\n",
       "      <td>Thenardier  \\r\\nWhat to do? What to say?  \\r\\n...</td>\n",
       "    </tr>\n",
       "  </tbody>\n",
       "</table>\n",
       "<p>5000 rows × 3 columns</p>\n",
       "</div>"
      ],
      "text/plain": [
       "              artist                                         song  \\\n",
       "0     Linda Ronstadt                       Anyone Who Had A Heart   \n",
       "1      Cliff Richard                          Great Balls Of Fire   \n",
       "2       James Taylor                                   Family Man   \n",
       "3            Incubus                                  Paper Shoes   \n",
       "4          Halloween                                Halloween Day   \n",
       "...              ...                                          ...   \n",
       "4995       Bob Seger                               Boomtown Blues   \n",
       "4996           Oasis  I Wanna Live A Dream (In My Record Machine)   \n",
       "4997        Boney M.                                  Lady Godiva   \n",
       "4998    Ziggy Marley                              Beach In Hawaii   \n",
       "4999  Les Miserables                       The Waltz Of Treachery   \n",
       "\n",
       "                                                   text  \n",
       "0     Anyone who ever loved could look at me  \\r\\nAn...  \n",
       "1     You shake my nerves and you rattle my brain  \\...  \n",
       "2     Woah, Jocko, don't expect me  \\r\\nTo come out ...  \n",
       "3     I fly  \\r\\nI soar  \\r\\nThis I  \\r\\nAdore  \\r\\n...  \n",
       "4     By Listen and Learn  \\r\\n  \\r\\nDo you know abo...  \n",
       "...                                                 ...  \n",
       "4995  Southern sun  \\r\\nRidin' high  \\r\\nWinter nigh...  \n",
       "4996  Help me, defy the light the shining on me  \\r\\...  \n",
       "4997  Her name was Lady Godiva  \\r\\nA lady so brave ...  \n",
       "4998  On the beach in Hawaii  \\r\\n  \\r\\nI wish you w...  \n",
       "4999  Thenardier  \\r\\nWhat to do? What to say?  \\r\\n...  \n",
       "\n",
       "[5000 rows x 3 columns]"
      ]
     },
     "execution_count": 6,
     "metadata": {},
     "output_type": "execute_result"
    }
   ],
   "source": [
    "df.head(5000)"
   ]
  },
  {
   "cell_type": "code",
   "execution_count": 7,
   "id": "04d967d8-1aaf-41d8-b6b6-599b25cbec93",
   "metadata": {},
   "outputs": [
    {
     "data": {
      "text/plain": [
       "\"Anyone who ever loved could look at me  \\r\\nAnd know that I love you  \\r\\nAmyone who ever dreamed could look at me  \\r\\nAnd know I dream of you  \\r\\n  \\r\\nKnowing I love you so  \\r\\nAnyone who had a heart  \\r\\nWould take me in his arms and love me too  \\r\\nYou couldn't really have a heart and hurt me  \\r\\nLike you hurt me and be so untrue  \\r\\nWhat am I to do  \\r\\n  \\r\\nEvery time you go away I always say  \\r\\nThis time it's goodbye dear  \\r\\nLoving you the way I do I'd take you back  \\r\\nWithout you I'd die dear  \\r\\n  \\r\\nKnowing I love you so  \\r\\nAnyone who had a heart  \\r\\nWould take me in his arms and love me too  \\r\\nYou couldn't really have a heart and hurt me  \\r\\nLike you hurt me and be so untrue  \\r\\nWhat am I to do  \\r\\n  \\r\\nKnowing I love you so  \\r\\nAnyone who had a heart  \\r\\nWould take me in his arms and love me too  \\r\\nYou couldn't really have a heart and hurt me  \\r\\nLike you hurt me and be so untrue  \\r\\nAnyone who had a heart would love me too  \\r\\nAnyone who had a heart would surely take me  \\r\\nIn his arms and always love me  \\r\\nWhy won't you, yeah  \\r\\nAnyone who had a heart would love me too  \\r\\nAnyone who had a heart would surely take me  \\r\\nIn his arms and always love me  \\r\\nWhy won't you  \\r\\nYeah  \\r\\nAnyone who had a heart would love me too\\r\\n\\r\\n\""
      ]
     },
     "execution_count": 7,
     "metadata": {},
     "output_type": "execute_result"
    }
   ],
   "source": [
    "df['text'][0]"
   ]
  },
  {
   "cell_type": "code",
   "execution_count": null,
   "id": "00e5a94d-8e0c-42a8-b371-dfa19d174c63",
   "metadata": {},
   "outputs": [],
   "source": []
  },
  {
   "cell_type": "code",
   "execution_count": 8,
   "id": "47ccbed6-609b-4a44-8c05-b0529789cfde",
   "metadata": {},
   "outputs": [
    {
     "data": {
      "text/plain": [
       "(10000, 3)"
      ]
     },
     "execution_count": 8,
     "metadata": {},
     "output_type": "execute_result"
    }
   ],
   "source": [
    "df.shape"
   ]
  },
  {
   "cell_type": "markdown",
   "id": "8e4c5fba-e6ea-4505-bef0-4838cf468ecf",
   "metadata": {},
   "source": [
    "Text Cleaning/ Text Preporcessing"
   ]
  },
  {
   "cell_type": "code",
   "execution_count": 9,
   "id": "c69afea4-c9b9-49e9-b2d0-704c1ac29204",
   "metadata": {},
   "outputs": [],
   "source": [
    "df['text'] = df['text'].str.lower().replace(r'^\\w\\s', '').replace(r'\\n',' ', regex = True)"
   ]
  },
  {
   "cell_type": "code",
   "execution_count": 10,
   "id": "9f3d64b0-2c3d-4776-85ea-6d6da839a710",
   "metadata": {},
   "outputs": [
    {
     "data": {
      "text/html": [
       "<div>\n",
       "<style scoped>\n",
       "    .dataframe tbody tr th:only-of-type {\n",
       "        vertical-align: middle;\n",
       "    }\n",
       "\n",
       "    .dataframe tbody tr th {\n",
       "        vertical-align: top;\n",
       "    }\n",
       "\n",
       "    .dataframe thead th {\n",
       "        text-align: right;\n",
       "    }\n",
       "</style>\n",
       "<table border=\"1\" class=\"dataframe\">\n",
       "  <thead>\n",
       "    <tr style=\"text-align: right;\">\n",
       "      <th></th>\n",
       "      <th>artist</th>\n",
       "      <th>song</th>\n",
       "      <th>text</th>\n",
       "    </tr>\n",
       "  </thead>\n",
       "  <tbody>\n",
       "    <tr>\n",
       "      <th>9995</th>\n",
       "      <td>Faith No More</td>\n",
       "      <td>The Jungle</td>\n",
       "      <td>well, just follow your heart  \\r man oh man  \\...</td>\n",
       "    </tr>\n",
       "    <tr>\n",
       "      <th>9996</th>\n",
       "      <td>Green Day</td>\n",
       "      <td>My Generation</td>\n",
       "      <td>well, people try to put us down.  \\r talkin' b...</td>\n",
       "    </tr>\n",
       "    <tr>\n",
       "      <th>9997</th>\n",
       "      <td>Weezer</td>\n",
       "      <td>The Good Life</td>\n",
       "      <td>when i look in the mirror i can't believe what...</td>\n",
       "    </tr>\n",
       "    <tr>\n",
       "      <th>9998</th>\n",
       "      <td>Matt Redman</td>\n",
       "      <td>You Have Done Great Things</td>\n",
       "      <td>you have done great things  \\r you have done g...</td>\n",
       "    </tr>\n",
       "    <tr>\n",
       "      <th>9999</th>\n",
       "      <td>Eddie Cochran</td>\n",
       "      <td>My Blind Date</td>\n",
       "      <td>blind date, blind date  \\r tonight's the night...</td>\n",
       "    </tr>\n",
       "  </tbody>\n",
       "</table>\n",
       "</div>"
      ],
      "text/plain": [
       "             artist                        song  \\\n",
       "9995  Faith No More                  The Jungle   \n",
       "9996      Green Day               My Generation   \n",
       "9997         Weezer               The Good Life   \n",
       "9998    Matt Redman  You Have Done Great Things   \n",
       "9999  Eddie Cochran               My Blind Date   \n",
       "\n",
       "                                                   text  \n",
       "9995  well, just follow your heart  \\r man oh man  \\...  \n",
       "9996  well, people try to put us down.  \\r talkin' b...  \n",
       "9997  when i look in the mirror i can't believe what...  \n",
       "9998  you have done great things  \\r you have done g...  \n",
       "9999  blind date, blind date  \\r tonight's the night...  "
      ]
     },
     "execution_count": 10,
     "metadata": {},
     "output_type": "execute_result"
    }
   ],
   "source": [
    "df.tail(5)"
   ]
  },
  {
   "cell_type": "code",
   "execution_count": 11,
   "id": "cb0086f8-bf65-4a7d-8ee9-b14d194468e5",
   "metadata": {},
   "outputs": [],
   "source": [
    "import nltk\n",
    "from nltk.stem.porter import PorterStemmer"
   ]
  },
  {
   "cell_type": "code",
   "execution_count": 12,
   "id": "8ec61ad4-0a18-4f8d-9ae2-71bfbe22c10a",
   "metadata": {},
   "outputs": [],
   "source": [
    "stemmer = PorterStemmer()"
   ]
  },
  {
   "cell_type": "code",
   "execution_count": 13,
   "id": "455bb1b3-a6a1-42cd-a261-48cd5d858411",
   "metadata": {},
   "outputs": [],
   "source": [
    "def token(txt):\n",
    "    token = nltk.word_tokenize(txt)\n",
    "    a =[stemmer.stem(w) for w in token]\n",
    "    return \" \".join(a)"
   ]
  },
  {
   "cell_type": "code",
   "execution_count": 14,
   "id": "c4f21d94-074a-4632-ba0f-a152d6334877",
   "metadata": {
    "scrolled": true
   },
   "outputs": [
    {
     "data": {
      "text/plain": [
       "'you are beauti , beauti'"
      ]
     },
     "execution_count": 14,
     "metadata": {},
     "output_type": "execute_result"
    }
   ],
   "source": [
    "token(\"you are beautiful, beauty\")"
   ]
  },
  {
   "cell_type": "code",
   "execution_count": 15,
   "id": "423cdf67-e064-4a2a-a834-6c6a5b084280",
   "metadata": {},
   "outputs": [
    {
     "data": {
      "text/plain": [
       "0       anyon who ever love could look at me and know ...\n",
       "1       you shake my nerv and you rattl my brain too m...\n",
       "2       woah , jocko , do n't expect me to come out dr...\n",
       "3       i fli i soar thi i ador then like a locomot th...\n",
       "4       by listen and learn do you know about a day th...\n",
       "                              ...                        \n",
       "9995    well , just follow your heart man oh man tri a...\n",
       "9996    well , peopl tri to put us down . talkin ' bou...\n",
       "9997    when i look in the mirror i ca n't believ what...\n",
       "9998    you have done great thing you have done great ...\n",
       "9999    blind date , blind date tonight 's the night i...\n",
       "Name: text, Length: 10000, dtype: object"
      ]
     },
     "execution_count": 15,
     "metadata": {},
     "output_type": "execute_result"
    }
   ],
   "source": [
    "df['text'].apply(lambda x: token(x))"
   ]
  },
  {
   "cell_type": "code",
   "execution_count": 16,
   "id": "a39bcbaa-0c2c-4218-8340-ab4e48b64e52",
   "metadata": {
    "scrolled": true
   },
   "outputs": [],
   "source": [
    "from sklearn.feature_extraction.text import TfidfVectorizer\n",
    "from sklearn.metrics.pairwise import cosine_similarity"
   ]
  },
  {
   "cell_type": "code",
   "execution_count": 17,
   "id": "74f7c286-e113-4bc1-81c9-a4692bf4b5a2",
   "metadata": {},
   "outputs": [],
   "source": [
    "tfid = TfidfVectorizer(analyzer='word', stop_words='english')"
   ]
  },
  {
   "cell_type": "code",
   "execution_count": 18,
   "id": "ced49d70-2a83-4e12-9f76-3ff6b08da754",
   "metadata": {},
   "outputs": [],
   "source": [
    "matrix = tfid.fit_transform(df['text'])"
   ]
  },
  {
   "cell_type": "code",
   "execution_count": 19,
   "id": "709d88a4-dabe-4459-a197-ff3039a24297",
   "metadata": {},
   "outputs": [],
   "source": [
    "similar = cosine_similarity(matrix)"
   ]
  },
  {
   "cell_type": "code",
   "execution_count": 20,
   "id": "0aba46f4-09c3-4d2b-bee2-a9b9f56d6f56",
   "metadata": {},
   "outputs": [
    {
     "data": {
      "text/plain": [
       "array([1.        , 0.06013534, 0.00997665, ..., 0.07714413, 0.01290306,\n",
       "       0.00189475], shape=(10000,))"
      ]
     },
     "execution_count": 20,
     "metadata": {},
     "output_type": "execute_result"
    }
   ],
   "source": [
    "similar[0]"
   ]
  },
  {
   "cell_type": "code",
   "execution_count": 21,
   "id": "1c246fa9-278b-4dbd-9aaf-420fe615ffba",
   "metadata": {},
   "outputs": [
    {
     "data": {
      "text/html": [
       "<div>\n",
       "<style scoped>\n",
       "    .dataframe tbody tr th:only-of-type {\n",
       "        vertical-align: middle;\n",
       "    }\n",
       "\n",
       "    .dataframe tbody tr th {\n",
       "        vertical-align: top;\n",
       "    }\n",
       "\n",
       "    .dataframe thead th {\n",
       "        text-align: right;\n",
       "    }\n",
       "</style>\n",
       "<table border=\"1\" class=\"dataframe\">\n",
       "  <thead>\n",
       "    <tr style=\"text-align: right;\">\n",
       "      <th></th>\n",
       "      <th>artist</th>\n",
       "      <th>song</th>\n",
       "      <th>text</th>\n",
       "    </tr>\n",
       "  </thead>\n",
       "  <tbody>\n",
       "  </tbody>\n",
       "</table>\n",
       "</div>"
      ],
      "text/plain": [
       "Empty DataFrame\n",
       "Columns: [artist, song, text]\n",
       "Index: []"
      ]
     },
     "execution_count": 21,
     "metadata": {},
     "output_type": "execute_result"
    }
   ],
   "source": [
    "df[df['song'] == 'Dangerous Woman']"
   ]
  },
  {
   "cell_type": "markdown",
   "id": "c79b8b61-5862-43a9-b96a-65a519b59ad9",
   "metadata": {},
   "source": [
    "Recommender Function"
   ]
  },
  {
   "cell_type": "code",
   "execution_count": 22,
   "id": "90f3a039-5665-4d1a-a8c6-8fe09e0b8754",
   "metadata": {},
   "outputs": [],
   "source": [
    "def recommender(song_name):\n",
    "    idx = df[df['song'] == song_name].index[0]\n",
    "    distance = sorted(list(enumerate(similar[idx])), reverse = True, key = lambda x:x[1])\n",
    "    song = []\n",
    "    for s_id in distance[1:5]:\n",
    "        song.append(df.iloc[s_id[0]].song)\n",
    "    return song"
   ]
  },
  {
   "cell_type": "code",
   "execution_count": 23,
   "id": "f3cbb8f7-82ff-4b75-affd-9b7f3adc5812",
   "metadata": {},
   "outputs": [],
   "source": [
    "import pickle"
   ]
  },
  {
   "cell_type": "code",
   "execution_count": 24,
   "id": "982c4705-2b69-445c-9488-a319a415a2fe",
   "metadata": {},
   "outputs": [],
   "source": [
    "pickle.dump(similar, open(\"similarity.pkl\", \"wb\"))"
   ]
  },
  {
   "cell_type": "code",
   "execution_count": 25,
   "id": "80db8ffa-31ac-4475-8bcf-f337bb779f8b",
   "metadata": {},
   "outputs": [],
   "source": [
    "pickle.dump(df, open(\"df.pkl\", \"wb\"))"
   ]
  },
  {
   "cell_type": "code",
   "execution_count": null,
   "id": "f7e08598-540c-49fd-9761-78299330327d",
   "metadata": {},
   "outputs": [],
   "source": []
  }
 ],
 "metadata": {
  "kernelspec": {
   "display_name": "Python 3",
   "language": "python",
   "name": "python3"
  },
  "language_info": {
   "codemirror_mode": {
    "name": "ipython",
    "version": 3
   },
   "file_extension": ".py",
   "mimetype": "text/x-python",
   "name": "python",
   "nbconvert_exporter": "python",
   "pygments_lexer": "ipython3",
   "version": "3.13.2"
  }
 },
 "nbformat": 4,
 "nbformat_minor": 5
}
