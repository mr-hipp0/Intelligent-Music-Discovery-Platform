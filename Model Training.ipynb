{
 "cells": [
  {
   "cell_type": "code",
   "execution_count": 1,
   "id": "35846a2d-c59d-4114-91d4-b0b7d65db011",
   "metadata": {},
   "outputs": [],
   "source": [
    "import pandas as pd"
   ]
  },
  {
   "cell_type": "code",
   "execution_count": 2,
   "id": "540402e0-610a-4321-9e11-de55ca5049b6",
   "metadata": {},
   "outputs": [],
   "source": [
    "df = pd.read_csv(\"spotify_millsongdata.csv\")"
   ]
  },
  {
   "cell_type": "code",
   "execution_count": 3,
   "id": "29f31c80-a4eb-40c4-9325-f6de984d34da",
   "metadata": {
    "scrolled": true
   },
   "outputs": [
    {
     "data": {
      "text/html": [
       "<div>\n",
       "<style scoped>\n",
       "    .dataframe tbody tr th:only-of-type {\n",
       "        vertical-align: middle;\n",
       "    }\n",
       "\n",
       "    .dataframe tbody tr th {\n",
       "        vertical-align: top;\n",
       "    }\n",
       "\n",
       "    .dataframe thead th {\n",
       "        text-align: right;\n",
       "    }\n",
       "</style>\n",
       "<table border=\"1\" class=\"dataframe\">\n",
       "  <thead>\n",
       "    <tr style=\"text-align: right;\">\n",
       "      <th></th>\n",
       "      <th>artist</th>\n",
       "      <th>song</th>\n",
       "      <th>link</th>\n",
       "      <th>text</th>\n",
       "    </tr>\n",
       "  </thead>\n",
       "  <tbody>\n",
       "    <tr>\n",
       "      <th>0</th>\n",
       "      <td>ABBA</td>\n",
       "      <td>Ahe's My Kind Of Girl</td>\n",
       "      <td>/a/abba/ahes+my+kind+of+girl_20598417.html</td>\n",
       "      <td>Look at her face, it's a wonderful face  \\r\\nA...</td>\n",
       "    </tr>\n",
       "    <tr>\n",
       "      <th>1</th>\n",
       "      <td>ABBA</td>\n",
       "      <td>Andante, Andante</td>\n",
       "      <td>/a/abba/andante+andante_20002708.html</td>\n",
       "      <td>Take it easy with me, please  \\r\\nTouch me gen...</td>\n",
       "    </tr>\n",
       "    <tr>\n",
       "      <th>2</th>\n",
       "      <td>ABBA</td>\n",
       "      <td>As Good As New</td>\n",
       "      <td>/a/abba/as+good+as+new_20003033.html</td>\n",
       "      <td>I'll never know why I had to go  \\r\\nWhy I had...</td>\n",
       "    </tr>\n",
       "    <tr>\n",
       "      <th>3</th>\n",
       "      <td>ABBA</td>\n",
       "      <td>Bang</td>\n",
       "      <td>/a/abba/bang_20598415.html</td>\n",
       "      <td>Making somebody happy is a question of give an...</td>\n",
       "    </tr>\n",
       "    <tr>\n",
       "      <th>4</th>\n",
       "      <td>ABBA</td>\n",
       "      <td>Bang-A-Boomerang</td>\n",
       "      <td>/a/abba/bang+a+boomerang_20002668.html</td>\n",
       "      <td>Making somebody happy is a question of give an...</td>\n",
       "    </tr>\n",
       "    <tr>\n",
       "      <th>...</th>\n",
       "      <td>...</td>\n",
       "      <td>...</td>\n",
       "      <td>...</td>\n",
       "      <td>...</td>\n",
       "    </tr>\n",
       "    <tr>\n",
       "      <th>775</th>\n",
       "      <td>Ariana Grande</td>\n",
       "      <td>Direct Contact</td>\n",
       "      <td>/a/ariana+grande/direct+contact_21066591.html</td>\n",
       "      <td>If you were mine, boy! There would no be no mo...</td>\n",
       "    </tr>\n",
       "    <tr>\n",
       "      <th>776</th>\n",
       "      <td>Ariana Grande</td>\n",
       "      <td>Higher</td>\n",
       "      <td>/a/ariana+grande/higher_20979966.html</td>\n",
       "      <td>(Hahaha) lalala uhuh  \\r\\nBeen runnin' 'round ...</td>\n",
       "    </tr>\n",
       "    <tr>\n",
       "      <th>777</th>\n",
       "      <td>Ariana Grande</td>\n",
       "      <td>Honeymoon Avenue</td>\n",
       "      <td>/a/ariana+grande/honeymoon+avenue_20996813.html</td>\n",
       "      <td>I looked in my rear view mirror and  \\r\\nIt se...</td>\n",
       "    </tr>\n",
       "    <tr>\n",
       "      <th>778</th>\n",
       "      <td>Ariana Grande</td>\n",
       "      <td>Just A Little Bit Of Your Heart</td>\n",
       "      <td>/a/ariana+grande/just+a+little+bit+of+your+hea...</td>\n",
       "      <td>[Verse 1]  \\r\\nOh, oh, oh, oh  \\r\\nI don't eve...</td>\n",
       "    </tr>\n",
       "    <tr>\n",
       "      <th>779</th>\n",
       "      <td>Ariana Grande</td>\n",
       "      <td>Not Just On Christmas</td>\n",
       "      <td>/a/ariana+grande/not+just+on+christmas_2110513...</td>\n",
       "      <td>[Refrain 1]  \\r\\nI'll love you till I die, boy...</td>\n",
       "    </tr>\n",
       "  </tbody>\n",
       "</table>\n",
       "<p>780 rows × 4 columns</p>\n",
       "</div>"
      ],
      "text/plain": [
       "            artist                             song  \\\n",
       "0             ABBA            Ahe's My Kind Of Girl   \n",
       "1             ABBA                 Andante, Andante   \n",
       "2             ABBA                   As Good As New   \n",
       "3             ABBA                             Bang   \n",
       "4             ABBA                 Bang-A-Boomerang   \n",
       "..             ...                              ...   \n",
       "775  Ariana Grande                   Direct Contact   \n",
       "776  Ariana Grande                           Higher   \n",
       "777  Ariana Grande                 Honeymoon Avenue   \n",
       "778  Ariana Grande  Just A Little Bit Of Your Heart   \n",
       "779  Ariana Grande            Not Just On Christmas   \n",
       "\n",
       "                                                  link  \\\n",
       "0           /a/abba/ahes+my+kind+of+girl_20598417.html   \n",
       "1                /a/abba/andante+andante_20002708.html   \n",
       "2                 /a/abba/as+good+as+new_20003033.html   \n",
       "3                           /a/abba/bang_20598415.html   \n",
       "4               /a/abba/bang+a+boomerang_20002668.html   \n",
       "..                                                 ...   \n",
       "775      /a/ariana+grande/direct+contact_21066591.html   \n",
       "776              /a/ariana+grande/higher_20979966.html   \n",
       "777    /a/ariana+grande/honeymoon+avenue_20996813.html   \n",
       "778  /a/ariana+grande/just+a+little+bit+of+your+hea...   \n",
       "779  /a/ariana+grande/not+just+on+christmas_2110513...   \n",
       "\n",
       "                                                  text  \n",
       "0    Look at her face, it's a wonderful face  \\r\\nA...  \n",
       "1    Take it easy with me, please  \\r\\nTouch me gen...  \n",
       "2    I'll never know why I had to go  \\r\\nWhy I had...  \n",
       "3    Making somebody happy is a question of give an...  \n",
       "4    Making somebody happy is a question of give an...  \n",
       "..                                                 ...  \n",
       "775  If you were mine, boy! There would no be no mo...  \n",
       "776  (Hahaha) lalala uhuh  \\r\\nBeen runnin' 'round ...  \n",
       "777  I looked in my rear view mirror and  \\r\\nIt se...  \n",
       "778  [Verse 1]  \\r\\nOh, oh, oh, oh  \\r\\nI don't eve...  \n",
       "779  [Refrain 1]  \\r\\nI'll love you till I die, boy...  \n",
       "\n",
       "[780 rows x 4 columns]"
      ]
     },
     "execution_count": 3,
     "metadata": {},
     "output_type": "execute_result"
    }
   ],
   "source": [
    "df.head(780)"
   ]
  },
  {
   "cell_type": "code",
   "execution_count": 4,
   "id": "6a39b4e9-234b-4b7d-9fae-24161d999dcf",
   "metadata": {},
   "outputs": [
    {
     "data": {
      "text/plain": [
       "artist    0\n",
       "song      0\n",
       "link      0\n",
       "text      0\n",
       "dtype: int64"
      ]
     },
     "execution_count": 4,
     "metadata": {},
     "output_type": "execute_result"
    }
   ],
   "source": [
    "df.isnull().sum()"
   ]
  },
  {
   "cell_type": "code",
   "execution_count": 5,
   "id": "8e4a377d-7944-4492-9e3d-e500b2c94c52",
   "metadata": {},
   "outputs": [],
   "source": [
    "df = df.sample(15000).drop('link', axis=1).reset_index(drop=True)"
   ]
  },
  {
   "cell_type": "code",
   "execution_count": 6,
   "id": "23e73afe-41b4-474a-aabc-52b162fdf6d3",
   "metadata": {},
   "outputs": [
    {
     "data": {
      "text/html": [
       "<div>\n",
       "<style scoped>\n",
       "    .dataframe tbody tr th:only-of-type {\n",
       "        vertical-align: middle;\n",
       "    }\n",
       "\n",
       "    .dataframe tbody tr th {\n",
       "        vertical-align: top;\n",
       "    }\n",
       "\n",
       "    .dataframe thead th {\n",
       "        text-align: right;\n",
       "    }\n",
       "</style>\n",
       "<table border=\"1\" class=\"dataframe\">\n",
       "  <thead>\n",
       "    <tr style=\"text-align: right;\">\n",
       "      <th></th>\n",
       "      <th>artist</th>\n",
       "      <th>song</th>\n",
       "      <th>text</th>\n",
       "    </tr>\n",
       "  </thead>\n",
       "  <tbody>\n",
       "    <tr>\n",
       "      <th>0</th>\n",
       "      <td>Boney M.</td>\n",
       "      <td>Time To Remember</td>\n",
       "      <td>I tried so very hard not to cry  \\r\\nI kept ha...</td>\n",
       "    </tr>\n",
       "    <tr>\n",
       "      <th>1</th>\n",
       "      <td>Lana Del Rey</td>\n",
       "      <td>Shades Of Cool</td>\n",
       "      <td>My baby lives in shades of blue  \\r\\nBlue eyes...</td>\n",
       "    </tr>\n",
       "    <tr>\n",
       "      <th>2</th>\n",
       "      <td>Flo-Rida</td>\n",
       "      <td>GDFR</td>\n",
       "      <td>[Hook: Sage the Gemini]  \\r\\nI know what you c...</td>\n",
       "    </tr>\n",
       "    <tr>\n",
       "      <th>3</th>\n",
       "      <td>Notorious B.I.G.</td>\n",
       "      <td>(You To Be) Happy</td>\n",
       "      <td>Everyday and night I pray  \\r\\nLove will swing...</td>\n",
       "    </tr>\n",
       "    <tr>\n",
       "      <th>4</th>\n",
       "      <td>America</td>\n",
       "      <td>Golden</td>\n",
       "      <td>Watchin' a stretch of road  \\r\\nMiles of light...</td>\n",
       "    </tr>\n",
       "    <tr>\n",
       "      <th>...</th>\n",
       "      <td>...</td>\n",
       "      <td>...</td>\n",
       "      <td>...</td>\n",
       "    </tr>\n",
       "    <tr>\n",
       "      <th>4995</th>\n",
       "      <td>Natalie Cole</td>\n",
       "      <td>I Love Him So Much</td>\n",
       "      <td>Written by chuck jackson and marvin yancy  \\r\\...</td>\n",
       "    </tr>\n",
       "    <tr>\n",
       "      <th>4996</th>\n",
       "      <td>Whitney Houston</td>\n",
       "      <td>I Believe In You And Me</td>\n",
       "      <td>I believe in you and me  \\r\\nI believe that we...</td>\n",
       "    </tr>\n",
       "    <tr>\n",
       "      <th>4997</th>\n",
       "      <td>Hillsong</td>\n",
       "      <td>King Of Majesty</td>\n",
       "      <td>You know that,  \\r\\nI love you,  \\r\\nYou know ...</td>\n",
       "    </tr>\n",
       "    <tr>\n",
       "      <th>4998</th>\n",
       "      <td>Megadeth</td>\n",
       "      <td>Symphony Of Destruction</td>\n",
       "      <td>You take a mortal man  \\r\\nAnd put him in cont...</td>\n",
       "    </tr>\n",
       "    <tr>\n",
       "      <th>4999</th>\n",
       "      <td>Queensryche</td>\n",
       "      <td>Out Of Mind</td>\n",
       "      <td>Little girl sits in the corner, locked in a st...</td>\n",
       "    </tr>\n",
       "  </tbody>\n",
       "</table>\n",
       "<p>5000 rows × 3 columns</p>\n",
       "</div>"
      ],
      "text/plain": [
       "                artist                     song  \\\n",
       "0             Boney M.         Time To Remember   \n",
       "1         Lana Del Rey           Shades Of Cool   \n",
       "2             Flo-Rida                     GDFR   \n",
       "3     Notorious B.I.G.        (You To Be) Happy   \n",
       "4              America                   Golden   \n",
       "...                ...                      ...   \n",
       "4995      Natalie Cole       I Love Him So Much   \n",
       "4996   Whitney Houston  I Believe In You And Me   \n",
       "4997          Hillsong          King Of Majesty   \n",
       "4998          Megadeth  Symphony Of Destruction   \n",
       "4999       Queensryche              Out Of Mind   \n",
       "\n",
       "                                                   text  \n",
       "0     I tried so very hard not to cry  \\r\\nI kept ha...  \n",
       "1     My baby lives in shades of blue  \\r\\nBlue eyes...  \n",
       "2     [Hook: Sage the Gemini]  \\r\\nI know what you c...  \n",
       "3     Everyday and night I pray  \\r\\nLove will swing...  \n",
       "4     Watchin' a stretch of road  \\r\\nMiles of light...  \n",
       "...                                                 ...  \n",
       "4995  Written by chuck jackson and marvin yancy  \\r\\...  \n",
       "4996  I believe in you and me  \\r\\nI believe that we...  \n",
       "4997  You know that,  \\r\\nI love you,  \\r\\nYou know ...  \n",
       "4998  You take a mortal man  \\r\\nAnd put him in cont...  \n",
       "4999  Little girl sits in the corner, locked in a st...  \n",
       "\n",
       "[5000 rows x 3 columns]"
      ]
     },
     "execution_count": 6,
     "metadata": {},
     "output_type": "execute_result"
    }
   ],
   "source": [
    "df.head(5000)"
   ]
  },
  {
   "cell_type": "code",
   "execution_count": 7,
   "id": "04d967d8-1aaf-41d8-b6b6-599b25cbec93",
   "metadata": {},
   "outputs": [
    {
     "data": {
      "text/plain": [
       "\"I tried so very hard not to cry  \\r\\nI kept hanging around to forget all the good things  \\r\\nWe both used to do  \\r\\n(Time to remember the nights without you)  \\r\\n  \\r\\nNo, no, no one can take your place, how I love  \\r\\nI miss your embrace, I'm a prisoner of love  \\r\\nWaiting for you it's true  \\r\\n(Time to remember, I'm lost without you)  \\r\\nTime to remember the nights without you)  \\r\\n  \\r\\nOh, let's get it together, I know that you'll soon understand  \\r\\nWe're wasting time 'cause love's hard to find  \\r\\nOh, how could we both be so blind? Oh, babe  \\r\\n  \\r\\nI've been losing control, I've been told  \\r\\nBut I, I must touch your soul  \\r\\nIf I go out with you, I don't mind if I do  \\r\\n(Time to remember I'm lost without you)  \\r\\n  \\r\\nI tried so very hard not to cry  \\r\\nI kept hanging around to forget all the good things  \\r\\nWe both used to do  \\r\\n(Time to remember the nights without you)  \\r\\n  \\r\\nNo, no, no one can take your place, how I love  \\r\\nI miss your embrace, I'm a prisoner of love, waiting for you it's true  \\r\\n(Time to remember I'm lost without you)  \\r\\nTime to remember the nights without you  \\r\\n(Time to remember the nights without you)\\r\\n\\r\\n\""
      ]
     },
     "execution_count": 7,
     "metadata": {},
     "output_type": "execute_result"
    }
   ],
   "source": [
    "df['text'][0]"
   ]
  },
  {
   "cell_type": "code",
   "execution_count": null,
   "id": "00e5a94d-8e0c-42a8-b371-dfa19d174c63",
   "metadata": {},
   "outputs": [],
   "source": []
  },
  {
   "cell_type": "code",
   "execution_count": 8,
   "id": "47ccbed6-609b-4a44-8c05-b0529789cfde",
   "metadata": {},
   "outputs": [
    {
     "data": {
      "text/plain": [
       "(15000, 3)"
      ]
     },
     "execution_count": 8,
     "metadata": {},
     "output_type": "execute_result"
    }
   ],
   "source": [
    "df.shape"
   ]
  },
  {
   "cell_type": "markdown",
   "id": "8e4c5fba-e6ea-4505-bef0-4838cf468ecf",
   "metadata": {},
   "source": [
    "Text Cleaning/ Text Preporcessing"
   ]
  },
  {
   "cell_type": "code",
   "execution_count": 9,
   "id": "c69afea4-c9b9-49e9-b2d0-704c1ac29204",
   "metadata": {},
   "outputs": [],
   "source": [
    "df['text'] = df['text'].str.lower().replace(r'^\\w\\s', '').replace(r'\\n',' ', regex = True)"
   ]
  },
  {
   "cell_type": "code",
   "execution_count": 10,
   "id": "9f3d64b0-2c3d-4776-85ea-6d6da839a710",
   "metadata": {},
   "outputs": [
    {
     "data": {
      "text/html": [
       "<div>\n",
       "<style scoped>\n",
       "    .dataframe tbody tr th:only-of-type {\n",
       "        vertical-align: middle;\n",
       "    }\n",
       "\n",
       "    .dataframe tbody tr th {\n",
       "        vertical-align: top;\n",
       "    }\n",
       "\n",
       "    .dataframe thead th {\n",
       "        text-align: right;\n",
       "    }\n",
       "</style>\n",
       "<table border=\"1\" class=\"dataframe\">\n",
       "  <thead>\n",
       "    <tr style=\"text-align: right;\">\n",
       "      <th></th>\n",
       "      <th>artist</th>\n",
       "      <th>song</th>\n",
       "      <th>text</th>\n",
       "    </tr>\n",
       "  </thead>\n",
       "  <tbody>\n",
       "    <tr>\n",
       "      <th>14995</th>\n",
       "      <td>Enya</td>\n",
       "      <td>On My Way Home</td>\n",
       "      <td>i have been given  \\r one moment from heaven  ...</td>\n",
       "    </tr>\n",
       "    <tr>\n",
       "      <th>14996</th>\n",
       "      <td>Cheap Trick</td>\n",
       "      <td>Pop Drone</td>\n",
       "      <td>if i ever get back home again  \\r if i ever ge...</td>\n",
       "    </tr>\n",
       "    <tr>\n",
       "      <th>14997</th>\n",
       "      <td>Helloween</td>\n",
       "      <td>Juggernaut</td>\n",
       "      <td>(originally performed by frank marino)  \\r   \\...</td>\n",
       "    </tr>\n",
       "    <tr>\n",
       "      <th>14998</th>\n",
       "      <td>Kelly Clarkson</td>\n",
       "      <td>Tightrope</td>\n",
       "      <td>i'm on a tightrope  \\r you've got your reasons...</td>\n",
       "    </tr>\n",
       "    <tr>\n",
       "      <th>14999</th>\n",
       "      <td>Journey</td>\n",
       "      <td>I Would Find You</td>\n",
       "      <td>many days have faded away and the time has pas...</td>\n",
       "    </tr>\n",
       "  </tbody>\n",
       "</table>\n",
       "</div>"
      ],
      "text/plain": [
       "               artist              song  \\\n",
       "14995            Enya    On My Way Home   \n",
       "14996     Cheap Trick         Pop Drone   \n",
       "14997       Helloween        Juggernaut   \n",
       "14998  Kelly Clarkson         Tightrope   \n",
       "14999         Journey  I Would Find You   \n",
       "\n",
       "                                                    text  \n",
       "14995  i have been given  \\r one moment from heaven  ...  \n",
       "14996  if i ever get back home again  \\r if i ever ge...  \n",
       "14997  (originally performed by frank marino)  \\r   \\...  \n",
       "14998  i'm on a tightrope  \\r you've got your reasons...  \n",
       "14999  many days have faded away and the time has pas...  "
      ]
     },
     "execution_count": 10,
     "metadata": {},
     "output_type": "execute_result"
    }
   ],
   "source": [
    "df.tail(5)"
   ]
  },
  {
   "cell_type": "code",
   "execution_count": 11,
   "id": "cb0086f8-bf65-4a7d-8ee9-b14d194468e5",
   "metadata": {},
   "outputs": [],
   "source": [
    "import nltk\n",
    "from nltk.stem.porter import PorterStemmer"
   ]
  },
  {
   "cell_type": "code",
   "execution_count": 12,
   "id": "8ec61ad4-0a18-4f8d-9ae2-71bfbe22c10a",
   "metadata": {},
   "outputs": [],
   "source": [
    "stemmer = PorterStemmer()"
   ]
  },
  {
   "cell_type": "code",
   "execution_count": 13,
   "id": "455bb1b3-a6a1-42cd-a261-48cd5d858411",
   "metadata": {},
   "outputs": [],
   "source": [
    "def token(txt):\n",
    "    token = nltk.word_tokenize(txt)\n",
    "    a =[stemmer.stem(w) for w in token]\n",
    "    return \" \".join(a)"
   ]
  },
  {
   "cell_type": "code",
   "execution_count": 14,
   "id": "c4f21d94-074a-4632-ba0f-a152d6334877",
   "metadata": {
    "scrolled": true
   },
   "outputs": [
    {
     "data": {
      "text/plain": [
       "'you are beauti , beauti'"
      ]
     },
     "execution_count": 14,
     "metadata": {},
     "output_type": "execute_result"
    }
   ],
   "source": [
    "token(\"you are beautiful, beauty\")"
   ]
  },
  {
   "cell_type": "code",
   "execution_count": 15,
   "id": "423cdf67-e064-4a2a-a834-6c6a5b084280",
   "metadata": {},
   "outputs": [
    {
     "data": {
      "text/plain": [
       "0        i tri so veri hard not to cri i kept hang arou...\n",
       "1        my babi live in shade of blue blue eye and jaz...\n",
       "2        [ hook : sage the gemini ] i know what you cam...\n",
       "3        everyday and night i pray love will swing you ...\n",
       "4        watchin ' a stretch of road mile of light expl...\n",
       "                               ...                        \n",
       "14995    i have been given one moment from heaven as i ...\n",
       "14996    if i ever get back home again if i ever get ba...\n",
       "14997    ( origin perform by frank marino ) evolut , re...\n",
       "14998    i 'm on a tightrop you 've got your reason whe...\n",
       "14999    mani day have fade away and the time ha pass ,...\n",
       "Name: text, Length: 15000, dtype: object"
      ]
     },
     "execution_count": 15,
     "metadata": {},
     "output_type": "execute_result"
    }
   ],
   "source": [
    "df['text'].apply(lambda x: token(x))"
   ]
  },
  {
   "cell_type": "code",
   "execution_count": 16,
   "id": "a39bcbaa-0c2c-4218-8340-ab4e48b64e52",
   "metadata": {
    "scrolled": true
   },
   "outputs": [],
   "source": [
    "from sklearn.feature_extraction.text import TfidfVectorizer\n",
    "from sklearn.metrics.pairwise import cosine_similarity"
   ]
  },
  {
   "cell_type": "code",
   "execution_count": 17,
   "id": "74f7c286-e113-4bc1-81c9-a4692bf4b5a2",
   "metadata": {},
   "outputs": [],
   "source": [
    "tfid = TfidfVectorizer(analyzer='word', stop_words='english')"
   ]
  },
  {
   "cell_type": "code",
   "execution_count": 18,
   "id": "ced49d70-2a83-4e12-9f76-3ff6b08da754",
   "metadata": {},
   "outputs": [],
   "source": [
    "matrix = tfid.fit_transform(df['text'])"
   ]
  },
  {
   "cell_type": "code",
   "execution_count": 19,
   "id": "709d88a4-dabe-4459-a197-ff3039a24297",
   "metadata": {},
   "outputs": [],
   "source": [
    "similar = cosine_similarity(matrix)"
   ]
  },
  {
   "cell_type": "code",
   "execution_count": 20,
   "id": "0aba46f4-09c3-4d2b-bee2-a9b9f56d6f56",
   "metadata": {},
   "outputs": [
    {
     "data": {
      "text/plain": [
       "array([1.        , 0.0196192 , 0.01069797, ..., 0.01882249, 0.07430087,\n",
       "       0.08220301], shape=(15000,))"
      ]
     },
     "execution_count": 20,
     "metadata": {},
     "output_type": "execute_result"
    }
   ],
   "source": [
    "similar[0]"
   ]
  },
  {
   "cell_type": "code",
   "execution_count": 21,
   "id": "1c246fa9-278b-4dbd-9aaf-420fe615ffba",
   "metadata": {},
   "outputs": [
    {
     "data": {
      "text/html": [
       "<div>\n",
       "<style scoped>\n",
       "    .dataframe tbody tr th:only-of-type {\n",
       "        vertical-align: middle;\n",
       "    }\n",
       "\n",
       "    .dataframe tbody tr th {\n",
       "        vertical-align: top;\n",
       "    }\n",
       "\n",
       "    .dataframe thead th {\n",
       "        text-align: right;\n",
       "    }\n",
       "</style>\n",
       "<table border=\"1\" class=\"dataframe\">\n",
       "  <thead>\n",
       "    <tr style=\"text-align: right;\">\n",
       "      <th></th>\n",
       "      <th>artist</th>\n",
       "      <th>song</th>\n",
       "      <th>text</th>\n",
       "    </tr>\n",
       "  </thead>\n",
       "  <tbody>\n",
       "  </tbody>\n",
       "</table>\n",
       "</div>"
      ],
      "text/plain": [
       "Empty DataFrame\n",
       "Columns: [artist, song, text]\n",
       "Index: []"
      ]
     },
     "execution_count": 21,
     "metadata": {},
     "output_type": "execute_result"
    }
   ],
   "source": [
    "df[df['song'] == 'Dangerous Woman']"
   ]
  },
  {
   "cell_type": "markdown",
   "id": "c79b8b61-5862-43a9-b96a-65a519b59ad9",
   "metadata": {},
   "source": [
    "Recommender Function"
   ]
  },
  {
   "cell_type": "code",
   "execution_count": 22,
   "id": "90f3a039-5665-4d1a-a8c6-8fe09e0b8754",
   "metadata": {},
   "outputs": [],
   "source": [
    "def recommender(song_name):\n",
    "    idx = df[df['song'] == song_name].index[0]\n",
    "    distance = sorted(list(enumerate(similar[idx])), reverse = True, key = lambda x:x[1])\n",
    "    song = []\n",
    "    for s_id in distance[1:5]:\n",
    "        song.append(df.iloc[s_id[0]].song)\n",
    "    return song"
   ]
  },
  {
   "cell_type": "code",
   "execution_count": 23,
   "id": "f3cbb8f7-82ff-4b75-affd-9b7f3adc5812",
   "metadata": {},
   "outputs": [],
   "source": [
    "import pickle"
   ]
  },
  {
   "cell_type": "code",
   "execution_count": 24,
   "id": "982c4705-2b69-445c-9488-a319a415a2fe",
   "metadata": {},
   "outputs": [],
   "source": [
    "pickle.dump(similar, open(\"similarity.pkl\", \"wb\"))"
   ]
  },
  {
   "cell_type": "code",
   "execution_count": 25,
   "id": "80db8ffa-31ac-4475-8bcf-f337bb779f8b",
   "metadata": {},
   "outputs": [],
   "source": [
    "pickle.dump(df, open(\"df.pkl\", \"wb\"))"
   ]
  },
  {
   "cell_type": "code",
   "execution_count": null,
   "id": "f7e08598-540c-49fd-9761-78299330327d",
   "metadata": {},
   "outputs": [],
   "source": []
  }
 ],
 "metadata": {
  "kernelspec": {
   "display_name": "Python 3",
   "language": "python",
   "name": "python3"
  },
  "language_info": {
   "codemirror_mode": {
    "name": "ipython",
    "version": 3
   },
   "file_extension": ".py",
   "mimetype": "text/x-python",
   "name": "python",
   "nbconvert_exporter": "python",
   "pygments_lexer": "ipython3",
   "version": "3.13.2"
  }
 },
 "nbformat": 4,
 "nbformat_minor": 5
}
