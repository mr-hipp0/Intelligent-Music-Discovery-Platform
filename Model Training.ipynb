{
 "cells": [
  {
   "cell_type": "code",
   "execution_count": 6,
   "id": "35846a2d-c59d-4114-91d4-b0b7d65db011",
   "metadata": {},
   "outputs": [],
   "source": [
    "import pandas as pd"
   ]
  },
  {
   "cell_type": "code",
   "execution_count": 7,
   "id": "540402e0-610a-4321-9e11-de55ca5049b6",
   "metadata": {},
   "outputs": [],
   "source": [
    "df = pd.read_csv(\"spotify_millsongdata.csv\")"
   ]
  },
  {
   "cell_type": "code",
   "execution_count": 8,
   "id": "29f31c80-a4eb-40c4-9325-f6de984d34da",
   "metadata": {
    "scrolled": true
   },
   "outputs": [
    {
     "data": {
      "text/html": [
       "<div>\n",
       "<style scoped>\n",
       "    .dataframe tbody tr th:only-of-type {\n",
       "        vertical-align: middle;\n",
       "    }\n",
       "\n",
       "    .dataframe tbody tr th {\n",
       "        vertical-align: top;\n",
       "    }\n",
       "\n",
       "    .dataframe thead th {\n",
       "        text-align: right;\n",
       "    }\n",
       "</style>\n",
       "<table border=\"1\" class=\"dataframe\">\n",
       "  <thead>\n",
       "    <tr style=\"text-align: right;\">\n",
       "      <th></th>\n",
       "      <th>artist</th>\n",
       "      <th>song</th>\n",
       "      <th>link</th>\n",
       "      <th>text</th>\n",
       "    </tr>\n",
       "  </thead>\n",
       "  <tbody>\n",
       "    <tr>\n",
       "      <th>0</th>\n",
       "      <td>ABBA</td>\n",
       "      <td>Ahe's My Kind Of Girl</td>\n",
       "      <td>/a/abba/ahes+my+kind+of+girl_20598417.html</td>\n",
       "      <td>Look at her face, it's a wonderful face  \\r\\nA...</td>\n",
       "    </tr>\n",
       "    <tr>\n",
       "      <th>1</th>\n",
       "      <td>ABBA</td>\n",
       "      <td>Andante, Andante</td>\n",
       "      <td>/a/abba/andante+andante_20002708.html</td>\n",
       "      <td>Take it easy with me, please  \\r\\nTouch me gen...</td>\n",
       "    </tr>\n",
       "    <tr>\n",
       "      <th>2</th>\n",
       "      <td>ABBA</td>\n",
       "      <td>As Good As New</td>\n",
       "      <td>/a/abba/as+good+as+new_20003033.html</td>\n",
       "      <td>I'll never know why I had to go  \\r\\nWhy I had...</td>\n",
       "    </tr>\n",
       "    <tr>\n",
       "      <th>3</th>\n",
       "      <td>ABBA</td>\n",
       "      <td>Bang</td>\n",
       "      <td>/a/abba/bang_20598415.html</td>\n",
       "      <td>Making somebody happy is a question of give an...</td>\n",
       "    </tr>\n",
       "    <tr>\n",
       "      <th>4</th>\n",
       "      <td>ABBA</td>\n",
       "      <td>Bang-A-Boomerang</td>\n",
       "      <td>/a/abba/bang+a+boomerang_20002668.html</td>\n",
       "      <td>Making somebody happy is a question of give an...</td>\n",
       "    </tr>\n",
       "    <tr>\n",
       "      <th>...</th>\n",
       "      <td>...</td>\n",
       "      <td>...</td>\n",
       "      <td>...</td>\n",
       "      <td>...</td>\n",
       "    </tr>\n",
       "    <tr>\n",
       "      <th>775</th>\n",
       "      <td>Ariana Grande</td>\n",
       "      <td>Direct Contact</td>\n",
       "      <td>/a/ariana+grande/direct+contact_21066591.html</td>\n",
       "      <td>If you were mine, boy! There would no be no mo...</td>\n",
       "    </tr>\n",
       "    <tr>\n",
       "      <th>776</th>\n",
       "      <td>Ariana Grande</td>\n",
       "      <td>Higher</td>\n",
       "      <td>/a/ariana+grande/higher_20979966.html</td>\n",
       "      <td>(Hahaha) lalala uhuh  \\r\\nBeen runnin' 'round ...</td>\n",
       "    </tr>\n",
       "    <tr>\n",
       "      <th>777</th>\n",
       "      <td>Ariana Grande</td>\n",
       "      <td>Honeymoon Avenue</td>\n",
       "      <td>/a/ariana+grande/honeymoon+avenue_20996813.html</td>\n",
       "      <td>I looked in my rear view mirror and  \\r\\nIt se...</td>\n",
       "    </tr>\n",
       "    <tr>\n",
       "      <th>778</th>\n",
       "      <td>Ariana Grande</td>\n",
       "      <td>Just A Little Bit Of Your Heart</td>\n",
       "      <td>/a/ariana+grande/just+a+little+bit+of+your+hea...</td>\n",
       "      <td>[Verse 1]  \\r\\nOh, oh, oh, oh  \\r\\nI don't eve...</td>\n",
       "    </tr>\n",
       "    <tr>\n",
       "      <th>779</th>\n",
       "      <td>Ariana Grande</td>\n",
       "      <td>Not Just On Christmas</td>\n",
       "      <td>/a/ariana+grande/not+just+on+christmas_2110513...</td>\n",
       "      <td>[Refrain 1]  \\r\\nI'll love you till I die, boy...</td>\n",
       "    </tr>\n",
       "  </tbody>\n",
       "</table>\n",
       "<p>780 rows × 4 columns</p>\n",
       "</div>"
      ],
      "text/plain": [
       "            artist                             song  \\\n",
       "0             ABBA            Ahe's My Kind Of Girl   \n",
       "1             ABBA                 Andante, Andante   \n",
       "2             ABBA                   As Good As New   \n",
       "3             ABBA                             Bang   \n",
       "4             ABBA                 Bang-A-Boomerang   \n",
       "..             ...                              ...   \n",
       "775  Ariana Grande                   Direct Contact   \n",
       "776  Ariana Grande                           Higher   \n",
       "777  Ariana Grande                 Honeymoon Avenue   \n",
       "778  Ariana Grande  Just A Little Bit Of Your Heart   \n",
       "779  Ariana Grande            Not Just On Christmas   \n",
       "\n",
       "                                                  link  \\\n",
       "0           /a/abba/ahes+my+kind+of+girl_20598417.html   \n",
       "1                /a/abba/andante+andante_20002708.html   \n",
       "2                 /a/abba/as+good+as+new_20003033.html   \n",
       "3                           /a/abba/bang_20598415.html   \n",
       "4               /a/abba/bang+a+boomerang_20002668.html   \n",
       "..                                                 ...   \n",
       "775      /a/ariana+grande/direct+contact_21066591.html   \n",
       "776              /a/ariana+grande/higher_20979966.html   \n",
       "777    /a/ariana+grande/honeymoon+avenue_20996813.html   \n",
       "778  /a/ariana+grande/just+a+little+bit+of+your+hea...   \n",
       "779  /a/ariana+grande/not+just+on+christmas_2110513...   \n",
       "\n",
       "                                                  text  \n",
       "0    Look at her face, it's a wonderful face  \\r\\nA...  \n",
       "1    Take it easy with me, please  \\r\\nTouch me gen...  \n",
       "2    I'll never know why I had to go  \\r\\nWhy I had...  \n",
       "3    Making somebody happy is a question of give an...  \n",
       "4    Making somebody happy is a question of give an...  \n",
       "..                                                 ...  \n",
       "775  If you were mine, boy! There would no be no mo...  \n",
       "776  (Hahaha) lalala uhuh  \\r\\nBeen runnin' 'round ...  \n",
       "777  I looked in my rear view mirror and  \\r\\nIt se...  \n",
       "778  [Verse 1]  \\r\\nOh, oh, oh, oh  \\r\\nI don't eve...  \n",
       "779  [Refrain 1]  \\r\\nI'll love you till I die, boy...  \n",
       "\n",
       "[780 rows x 4 columns]"
      ]
     },
     "execution_count": 8,
     "metadata": {},
     "output_type": "execute_result"
    }
   ],
   "source": [
    "df.head(780)"
   ]
  },
  {
   "cell_type": "code",
   "execution_count": 9,
   "id": "6a39b4e9-234b-4b7d-9fae-24161d999dcf",
   "metadata": {},
   "outputs": [
    {
     "data": {
      "text/plain": [
       "artist    0\n",
       "song      0\n",
       "link      0\n",
       "text      0\n",
       "dtype: int64"
      ]
     },
     "execution_count": 9,
     "metadata": {},
     "output_type": "execute_result"
    }
   ],
   "source": [
    "df.isnull().sum()"
   ]
  },
  {
   "cell_type": "code",
   "execution_count": 10,
   "id": "8e4a377d-7944-4492-9e3d-e500b2c94c52",
   "metadata": {},
   "outputs": [],
   "source": [
    "df = df.sample(7500).drop('link', axis=1).reset_index(drop=True)"
   ]
  },
  {
   "cell_type": "code",
   "execution_count": 11,
   "id": "23e73afe-41b4-474a-aabc-52b162fdf6d3",
   "metadata": {},
   "outputs": [
    {
     "data": {
      "text/html": [
       "<div>\n",
       "<style scoped>\n",
       "    .dataframe tbody tr th:only-of-type {\n",
       "        vertical-align: middle;\n",
       "    }\n",
       "\n",
       "    .dataframe tbody tr th {\n",
       "        vertical-align: top;\n",
       "    }\n",
       "\n",
       "    .dataframe thead th {\n",
       "        text-align: right;\n",
       "    }\n",
       "</style>\n",
       "<table border=\"1\" class=\"dataframe\">\n",
       "  <thead>\n",
       "    <tr style=\"text-align: right;\">\n",
       "      <th></th>\n",
       "      <th>artist</th>\n",
       "      <th>song</th>\n",
       "      <th>text</th>\n",
       "    </tr>\n",
       "  </thead>\n",
       "  <tbody>\n",
       "    <tr>\n",
       "      <th>0</th>\n",
       "      <td>Michael W. Smith</td>\n",
       "      <td>Do You Dream Of Me</td>\n",
       "      <td>Dreams within the still of night  \\r\\nOn wings...</td>\n",
       "    </tr>\n",
       "    <tr>\n",
       "      <th>1</th>\n",
       "      <td>Marilyn Manson</td>\n",
       "      <td>Into The Fire</td>\n",
       "      <td>This is the film, close to the third act and t...</td>\n",
       "    </tr>\n",
       "    <tr>\n",
       "      <th>2</th>\n",
       "      <td>Rihanna</td>\n",
       "      <td>Lease My Love</td>\n",
       "      <td>You can't lease my love x9  \\r\\nOh, this was j...</td>\n",
       "    </tr>\n",
       "    <tr>\n",
       "      <th>3</th>\n",
       "      <td>Cheap Trick</td>\n",
       "      <td>Come On, Come On, Come On</td>\n",
       "      <td>Oh baby, feelin' so good  \\r\\nDon't you ruin i...</td>\n",
       "    </tr>\n",
       "    <tr>\n",
       "      <th>4</th>\n",
       "      <td>John Martyn</td>\n",
       "      <td>Walk On The Water</td>\n",
       "      <td>She walked to the water  \\r\\nAnd came back loo...</td>\n",
       "    </tr>\n",
       "    <tr>\n",
       "      <th>...</th>\n",
       "      <td>...</td>\n",
       "      <td>...</td>\n",
       "      <td>...</td>\n",
       "    </tr>\n",
       "    <tr>\n",
       "      <th>4995</th>\n",
       "      <td>Tim McGraw</td>\n",
       "      <td>Meanwhile Back At Mama's</td>\n",
       "      <td>Running round in this new truck  \\r\\nBank let'...</td>\n",
       "    </tr>\n",
       "    <tr>\n",
       "      <th>4996</th>\n",
       "      <td>NOFX</td>\n",
       "      <td>Brain Constipation</td>\n",
       "      <td>Somebody hear me, somebody listen to me  \\r\\nA...</td>\n",
       "    </tr>\n",
       "    <tr>\n",
       "      <th>4997</th>\n",
       "      <td>Roxette</td>\n",
       "      <td>Fool</td>\n",
       "      <td>I was alone  \\r\\nI told my mouth to shot up 'c...</td>\n",
       "    </tr>\n",
       "    <tr>\n",
       "      <th>4998</th>\n",
       "      <td>Freddie King</td>\n",
       "      <td>You Were Wrong</td>\n",
       "      <td>You were wrong, you were wrong  \\r\\nYou were w...</td>\n",
       "    </tr>\n",
       "    <tr>\n",
       "      <th>4999</th>\n",
       "      <td>Miley Cyrus</td>\n",
       "      <td>Decisions</td>\n",
       "      <td>Decisions, but I want it all so I get it all  ...</td>\n",
       "    </tr>\n",
       "  </tbody>\n",
       "</table>\n",
       "<p>5000 rows × 3 columns</p>\n",
       "</div>"
      ],
      "text/plain": [
       "                artist                       song  \\\n",
       "0     Michael W. Smith         Do You Dream Of Me   \n",
       "1       Marilyn Manson              Into The Fire   \n",
       "2              Rihanna              Lease My Love   \n",
       "3          Cheap Trick  Come On, Come On, Come On   \n",
       "4          John Martyn          Walk On The Water   \n",
       "...                ...                        ...   \n",
       "4995        Tim McGraw   Meanwhile Back At Mama's   \n",
       "4996              NOFX         Brain Constipation   \n",
       "4997           Roxette                       Fool   \n",
       "4998      Freddie King             You Were Wrong   \n",
       "4999       Miley Cyrus                  Decisions   \n",
       "\n",
       "                                                   text  \n",
       "0     Dreams within the still of night  \\r\\nOn wings...  \n",
       "1     This is the film, close to the third act and t...  \n",
       "2     You can't lease my love x9  \\r\\nOh, this was j...  \n",
       "3     Oh baby, feelin' so good  \\r\\nDon't you ruin i...  \n",
       "4     She walked to the water  \\r\\nAnd came back loo...  \n",
       "...                                                 ...  \n",
       "4995  Running round in this new truck  \\r\\nBank let'...  \n",
       "4996  Somebody hear me, somebody listen to me  \\r\\nA...  \n",
       "4997  I was alone  \\r\\nI told my mouth to shot up 'c...  \n",
       "4998  You were wrong, you were wrong  \\r\\nYou were w...  \n",
       "4999  Decisions, but I want it all so I get it all  ...  \n",
       "\n",
       "[5000 rows x 3 columns]"
      ]
     },
     "execution_count": 11,
     "metadata": {},
     "output_type": "execute_result"
    }
   ],
   "source": [
    "df.head(5000)"
   ]
  },
  {
   "cell_type": "code",
   "execution_count": 12,
   "id": "04d967d8-1aaf-41d8-b6b6-599b25cbec93",
   "metadata": {},
   "outputs": [
    {
     "data": {
      "text/plain": [
       "\"Dreams within the still of night  \\r\\nOn wings of hope take flight inside of me  \\r\\nThere upon some distant shore  \\r\\nWe want for nothing more than what will be  \\r\\nAnd you and I, here we are  \\r\\nI wonder as we've come this far  \\r\\n  \\r\\nIf I could only read your mind  \\r\\nTell me the answer I would find  \\r\\nDo you dream of me?  \\r\\nAnd when you're smiling in your sleep  \\r\\nBeyond the promises we keep  \\r\\nDo you dream of me?  \\r\\n  \\r\\nLove has found a magic space  \\r\\nA deep and hidden place where time stands still  \\r\\nNow I hold you in my arms  \\r\\nYou know you hold my heart and always will  \\r\\n  \\r\\nAnd you and I, here we are  \\r\\nAnd it's a wonder that we've come this far.  \\r\\n  \\r\\nAnd after all that we've been through  \\r\\nYou've leaned on me, I've leaned on you  \\r\\nDo you dream of me?  \\r\\nAnd when you're smiling in your sleep  \\r\\nBeyond the promises we keep  \\r\\nDo you dream of me?  \\r\\n  \\r\\nIf I could only read your mind  \\r\\nTell me the answer I would find  \\r\\nDo you dream of me?  \\r\\nAnd when you're smiling in your sleep  \\r\\nBeyond the promises we keep  \\r\\nDo you dream of me?  \\r\\nAnd after all that we've been through  \\r\\nYou've leaned on me, I've leaned on you.  \\r\\nDo you dream of me?\\r\\n\\r\\n\""
      ]
     },
     "execution_count": 12,
     "metadata": {},
     "output_type": "execute_result"
    }
   ],
   "source": [
    "df['text'][0]"
   ]
  },
  {
   "cell_type": "code",
   "execution_count": null,
   "id": "00e5a94d-8e0c-42a8-b371-dfa19d174c63",
   "metadata": {},
   "outputs": [],
   "source": []
  },
  {
   "cell_type": "code",
   "execution_count": 13,
   "id": "47ccbed6-609b-4a44-8c05-b0529789cfde",
   "metadata": {},
   "outputs": [
    {
     "data": {
      "text/plain": [
       "(7500, 3)"
      ]
     },
     "execution_count": 13,
     "metadata": {},
     "output_type": "execute_result"
    }
   ],
   "source": [
    "df.shape"
   ]
  },
  {
   "cell_type": "markdown",
   "id": "8e4c5fba-e6ea-4505-bef0-4838cf468ecf",
   "metadata": {},
   "source": [
    "Text Cleaning/ Text Preporcessing"
   ]
  },
  {
   "cell_type": "code",
   "execution_count": 14,
   "id": "c69afea4-c9b9-49e9-b2d0-704c1ac29204",
   "metadata": {},
   "outputs": [],
   "source": [
    "df['text'] = df['text'].str.lower().replace(r'^\\w\\s', '').replace(r'\\n',' ', regex = True)"
   ]
  },
  {
   "cell_type": "code",
   "execution_count": 15,
   "id": "9f3d64b0-2c3d-4776-85ea-6d6da839a710",
   "metadata": {},
   "outputs": [
    {
     "data": {
      "text/html": [
       "<div>\n",
       "<style scoped>\n",
       "    .dataframe tbody tr th:only-of-type {\n",
       "        vertical-align: middle;\n",
       "    }\n",
       "\n",
       "    .dataframe tbody tr th {\n",
       "        vertical-align: top;\n",
       "    }\n",
       "\n",
       "    .dataframe thead th {\n",
       "        text-align: right;\n",
       "    }\n",
       "</style>\n",
       "<table border=\"1\" class=\"dataframe\">\n",
       "  <thead>\n",
       "    <tr style=\"text-align: right;\">\n",
       "      <th></th>\n",
       "      <th>artist</th>\n",
       "      <th>song</th>\n",
       "      <th>text</th>\n",
       "    </tr>\n",
       "  </thead>\n",
       "  <tbody>\n",
       "    <tr>\n",
       "      <th>7495</th>\n",
       "      <td>Les Miserables</td>\n",
       "      <td>Dog Eats Dog</td>\n",
       "      <td>\"thenardier:  \\r here's a hint of gold  \\r stu...</td>\n",
       "    </tr>\n",
       "    <tr>\n",
       "      <th>7496</th>\n",
       "      <td>America</td>\n",
       "      <td>Sunrise Sunset</td>\n",
       "      <td>sunrise sunset  \\r can't sleep can't forget  \\...</td>\n",
       "    </tr>\n",
       "    <tr>\n",
       "      <th>7497</th>\n",
       "      <td>Bill Withers</td>\n",
       "      <td>Let Us Love</td>\n",
       "      <td>on just and ordinary day, no reason, no reason...</td>\n",
       "    </tr>\n",
       "    <tr>\n",
       "      <th>7498</th>\n",
       "      <td>John McDermott</td>\n",
       "      <td>Daughter Of Mine</td>\n",
       "      <td>these are the thoughts of a father  \\r on the ...</td>\n",
       "    </tr>\n",
       "    <tr>\n",
       "      <th>7499</th>\n",
       "      <td>Norah Jones</td>\n",
       "      <td>Don't Know Why</td>\n",
       "      <td>i waited 'til i saw the sun  \\r i don't know w...</td>\n",
       "    </tr>\n",
       "  </tbody>\n",
       "</table>\n",
       "</div>"
      ],
      "text/plain": [
       "              artist              song  \\\n",
       "7495  Les Miserables      Dog Eats Dog   \n",
       "7496         America    Sunrise Sunset   \n",
       "7497    Bill Withers       Let Us Love   \n",
       "7498  John McDermott  Daughter Of Mine   \n",
       "7499     Norah Jones    Don't Know Why   \n",
       "\n",
       "                                                   text  \n",
       "7495  \"thenardier:  \\r here's a hint of gold  \\r stu...  \n",
       "7496  sunrise sunset  \\r can't sleep can't forget  \\...  \n",
       "7497  on just and ordinary day, no reason, no reason...  \n",
       "7498  these are the thoughts of a father  \\r on the ...  \n",
       "7499  i waited 'til i saw the sun  \\r i don't know w...  "
      ]
     },
     "execution_count": 15,
     "metadata": {},
     "output_type": "execute_result"
    }
   ],
   "source": [
    "df.tail(5)"
   ]
  },
  {
   "cell_type": "code",
   "execution_count": 16,
   "id": "cb0086f8-bf65-4a7d-8ee9-b14d194468e5",
   "metadata": {},
   "outputs": [],
   "source": [
    "import nltk\n",
    "from nltk.stem.porter import PorterStemmer"
   ]
  },
  {
   "cell_type": "code",
   "execution_count": 17,
   "id": "8ec61ad4-0a18-4f8d-9ae2-71bfbe22c10a",
   "metadata": {},
   "outputs": [],
   "source": [
    "stemmer = PorterStemmer()"
   ]
  },
  {
   "cell_type": "code",
   "execution_count": 18,
   "id": "455bb1b3-a6a1-42cd-a261-48cd5d858411",
   "metadata": {},
   "outputs": [],
   "source": [
    "def token(txt):\n",
    "    token = nltk.word_tokenize(txt)\n",
    "    a =[stemmer.stem(w) for w in token]\n",
    "    return \" \".join(a)"
   ]
  },
  {
   "cell_type": "code",
   "execution_count": 19,
   "id": "c4f21d94-074a-4632-ba0f-a152d6334877",
   "metadata": {
    "scrolled": true
   },
   "outputs": [
    {
     "data": {
      "text/plain": [
       "'you are beauti , beauti'"
      ]
     },
     "execution_count": 19,
     "metadata": {},
     "output_type": "execute_result"
    }
   ],
   "source": [
    "token(\"you are beautiful, beauty\")"
   ]
  },
  {
   "cell_type": "code",
   "execution_count": 20,
   "id": "423cdf67-e064-4a2a-a834-6c6a5b084280",
   "metadata": {},
   "outputs": [
    {
     "data": {
      "text/plain": [
       "0       dream within the still of night on wing of hop...\n",
       "1       thi is the film , close to the third act and t...\n",
       "2       you ca n't leas my love x9 oh , thi wa just an...\n",
       "3       oh babi , feelin ' so good do n't you ruin it ...\n",
       "4       she walk to the water and came back look good ...\n",
       "                              ...                        \n",
       "7495    `` thenardi : here 's a hint of gold stuck int...\n",
       "7496    sunris sunset ca n't sleep ca n't forget thoug...\n",
       "7497    on just and ordinari day , no reason , no reas...\n",
       "7498    these are the thought of a father on the wed d...\n",
       "7499    i wait 'til i saw the sun i do n't know whi i ...\n",
       "Name: text, Length: 7500, dtype: object"
      ]
     },
     "execution_count": 20,
     "metadata": {},
     "output_type": "execute_result"
    }
   ],
   "source": [
    "df['text'].apply(lambda x: token(x))"
   ]
  },
  {
   "cell_type": "code",
   "execution_count": 21,
   "id": "a39bcbaa-0c2c-4218-8340-ab4e48b64e52",
   "metadata": {
    "scrolled": true
   },
   "outputs": [],
   "source": [
    "from sklearn.feature_extraction.text import TfidfVectorizer\n",
    "from sklearn.metrics.pairwise import cosine_similarity"
   ]
  },
  {
   "cell_type": "code",
   "execution_count": 22,
   "id": "74f7c286-e113-4bc1-81c9-a4692bf4b5a2",
   "metadata": {},
   "outputs": [],
   "source": [
    "tfid = TfidfVectorizer(analyzer='word', stop_words='english')"
   ]
  },
  {
   "cell_type": "code",
   "execution_count": 23,
   "id": "ced49d70-2a83-4e12-9f76-3ff6b08da754",
   "metadata": {},
   "outputs": [],
   "source": [
    "matrix = tfid.fit_transform(df['text'])"
   ]
  },
  {
   "cell_type": "code",
   "execution_count": 24,
   "id": "709d88a4-dabe-4459-a197-ff3039a24297",
   "metadata": {},
   "outputs": [],
   "source": [
    "similar = cosine_similarity(matrix)"
   ]
  },
  {
   "cell_type": "code",
   "execution_count": 25,
   "id": "0aba46f4-09c3-4d2b-bee2-a9b9f56d6f56",
   "metadata": {},
   "outputs": [
    {
     "data": {
      "text/plain": [
       "array([1.        , 0.0350876 , 0.01242591, ..., 0.01437054, 0.03828406,\n",
       "       0.04780227], shape=(7500,))"
      ]
     },
     "execution_count": 25,
     "metadata": {},
     "output_type": "execute_result"
    }
   ],
   "source": [
    "similar[0]"
   ]
  },
  {
   "cell_type": "code",
   "execution_count": 26,
   "id": "1c246fa9-278b-4dbd-9aaf-420fe615ffba",
   "metadata": {},
   "outputs": [
    {
     "data": {
      "text/html": [
       "<div>\n",
       "<style scoped>\n",
       "    .dataframe tbody tr th:only-of-type {\n",
       "        vertical-align: middle;\n",
       "    }\n",
       "\n",
       "    .dataframe tbody tr th {\n",
       "        vertical-align: top;\n",
       "    }\n",
       "\n",
       "    .dataframe thead th {\n",
       "        text-align: right;\n",
       "    }\n",
       "</style>\n",
       "<table border=\"1\" class=\"dataframe\">\n",
       "  <thead>\n",
       "    <tr style=\"text-align: right;\">\n",
       "      <th></th>\n",
       "      <th>artist</th>\n",
       "      <th>song</th>\n",
       "      <th>text</th>\n",
       "    </tr>\n",
       "  </thead>\n",
       "  <tbody>\n",
       "  </tbody>\n",
       "</table>\n",
       "</div>"
      ],
      "text/plain": [
       "Empty DataFrame\n",
       "Columns: [artist, song, text]\n",
       "Index: []"
      ]
     },
     "execution_count": 26,
     "metadata": {},
     "output_type": "execute_result"
    }
   ],
   "source": [
    "df[df['song'] == 'Dangerous Woman']"
   ]
  },
  {
   "cell_type": "markdown",
   "id": "c79b8b61-5862-43a9-b96a-65a519b59ad9",
   "metadata": {},
   "source": [
    "Recommender Function"
   ]
  },
  {
   "cell_type": "code",
   "execution_count": 27,
   "id": "90f3a039-5665-4d1a-a8c6-8fe09e0b8754",
   "metadata": {},
   "outputs": [],
   "source": [
    "def recommender(song_name):\n",
    "    idx = df[df['song'] == song_name].index[0]\n",
    "    distance = sorted(list(enumerate(similar[idx])), reverse = True, key = lambda x:x[1])\n",
    "    song = []\n",
    "    for s_id in distance[1:5]:\n",
    "        song.append(df.iloc[s_id[0]].song)\n",
    "    return song"
   ]
  },
  {
   "cell_type": "code",
   "execution_count": 28,
   "id": "f3cbb8f7-82ff-4b75-affd-9b7f3adc5812",
   "metadata": {},
   "outputs": [],
   "source": [
    "import pickle"
   ]
  },
  {
   "cell_type": "code",
   "execution_count": 29,
   "id": "982c4705-2b69-445c-9488-a319a415a2fe",
   "metadata": {},
   "outputs": [],
   "source": [
    "pickle.dump(similar, open(\"similarity.pkl\", \"wb\"))"
   ]
  },
  {
   "cell_type": "code",
   "execution_count": 30,
   "id": "80db8ffa-31ac-4475-8bcf-f337bb779f8b",
   "metadata": {},
   "outputs": [],
   "source": [
    "pickle.dump(df, open(\"df.pkl\", \"wb\"))"
   ]
  },
  {
   "cell_type": "code",
   "execution_count": null,
   "id": "f7e08598-540c-49fd-9761-78299330327d",
   "metadata": {},
   "outputs": [],
   "source": []
  }
 ],
 "metadata": {
  "kernelspec": {
   "display_name": "Python 3",
   "language": "python",
   "name": "python3"
  },
  "language_info": {
   "codemirror_mode": {
    "name": "ipython",
    "version": 3
   },
   "file_extension": ".py",
   "mimetype": "text/x-python",
   "name": "python",
   "nbconvert_exporter": "python",
   "pygments_lexer": "ipython3",
   "version": "3.13.2"
  }
 },
 "nbformat": 4,
 "nbformat_minor": 5
}
