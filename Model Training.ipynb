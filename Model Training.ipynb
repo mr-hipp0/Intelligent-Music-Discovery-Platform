{
 "cells": [
  {
   "cell_type": "code",
   "execution_count": 3,
   "id": "35846a2d-c59d-4114-91d4-b0b7d65db011",
   "metadata": {},
   "outputs": [],
   "source": [
    "import pandas as pd"
   ]
  },
  {
   "cell_type": "code",
   "execution_count": 4,
   "id": "540402e0-610a-4321-9e11-de55ca5049b6",
   "metadata": {},
   "outputs": [],
   "source": [
    "df = pd.read_csv(\"spotify_millsongdata.csv\")"
   ]
  },
  {
   "cell_type": "code",
   "execution_count": 5,
   "id": "29f31c80-a4eb-40c4-9325-f6de984d34da",
   "metadata": {
    "scrolled": true
   },
   "outputs": [
    {
     "data": {
      "text/html": [
       "<div>\n",
       "<style scoped>\n",
       "    .dataframe tbody tr th:only-of-type {\n",
       "        vertical-align: middle;\n",
       "    }\n",
       "\n",
       "    .dataframe tbody tr th {\n",
       "        vertical-align: top;\n",
       "    }\n",
       "\n",
       "    .dataframe thead th {\n",
       "        text-align: right;\n",
       "    }\n",
       "</style>\n",
       "<table border=\"1\" class=\"dataframe\">\n",
       "  <thead>\n",
       "    <tr style=\"text-align: right;\">\n",
       "      <th></th>\n",
       "      <th>artist</th>\n",
       "      <th>song</th>\n",
       "      <th>link</th>\n",
       "      <th>text</th>\n",
       "    </tr>\n",
       "  </thead>\n",
       "  <tbody>\n",
       "    <tr>\n",
       "      <th>0</th>\n",
       "      <td>ABBA</td>\n",
       "      <td>Ahe's My Kind Of Girl</td>\n",
       "      <td>/a/abba/ahes+my+kind+of+girl_20598417.html</td>\n",
       "      <td>Look at her face, it's a wonderful face  \\nAnd...</td>\n",
       "    </tr>\n",
       "    <tr>\n",
       "      <th>1</th>\n",
       "      <td>ABBA</td>\n",
       "      <td>Andante, Andante</td>\n",
       "      <td>/a/abba/andante+andante_20002708.html</td>\n",
       "      <td>Take it easy with me, please  \\nTouch me gentl...</td>\n",
       "    </tr>\n",
       "    <tr>\n",
       "      <th>2</th>\n",
       "      <td>ABBA</td>\n",
       "      <td>As Good As New</td>\n",
       "      <td>/a/abba/as+good+as+new_20003033.html</td>\n",
       "      <td>I'll never know why I had to go  \\nWhy I had t...</td>\n",
       "    </tr>\n",
       "    <tr>\n",
       "      <th>3</th>\n",
       "      <td>ABBA</td>\n",
       "      <td>Bang</td>\n",
       "      <td>/a/abba/bang_20598415.html</td>\n",
       "      <td>Making somebody happy is a question of give an...</td>\n",
       "    </tr>\n",
       "    <tr>\n",
       "      <th>4</th>\n",
       "      <td>ABBA</td>\n",
       "      <td>Bang-A-Boomerang</td>\n",
       "      <td>/a/abba/bang+a+boomerang_20002668.html</td>\n",
       "      <td>Making somebody happy is a question of give an...</td>\n",
       "    </tr>\n",
       "    <tr>\n",
       "      <th>...</th>\n",
       "      <td>...</td>\n",
       "      <td>...</td>\n",
       "      <td>...</td>\n",
       "      <td>...</td>\n",
       "    </tr>\n",
       "    <tr>\n",
       "      <th>775</th>\n",
       "      <td>Ariana Grande</td>\n",
       "      <td>Direct Contact</td>\n",
       "      <td>/a/ariana+grande/direct+contact_21066591.html</td>\n",
       "      <td>If you were mine, boy! There would no be no mo...</td>\n",
       "    </tr>\n",
       "    <tr>\n",
       "      <th>776</th>\n",
       "      <td>Ariana Grande</td>\n",
       "      <td>Higher</td>\n",
       "      <td>/a/ariana+grande/higher_20979966.html</td>\n",
       "      <td>(Hahaha) lalala uhuh  \\nBeen runnin' 'round in...</td>\n",
       "    </tr>\n",
       "    <tr>\n",
       "      <th>777</th>\n",
       "      <td>Ariana Grande</td>\n",
       "      <td>Honeymoon Avenue</td>\n",
       "      <td>/a/ariana+grande/honeymoon+avenue_20996813.html</td>\n",
       "      <td>I looked in my rear view mirror and  \\nIt seem...</td>\n",
       "    </tr>\n",
       "    <tr>\n",
       "      <th>778</th>\n",
       "      <td>Ariana Grande</td>\n",
       "      <td>Just A Little Bit Of Your Heart</td>\n",
       "      <td>/a/ariana+grande/just+a+little+bit+of+your+hea...</td>\n",
       "      <td>[Verse 1]  \\nOh, oh, oh, oh  \\nI don't ever as...</td>\n",
       "    </tr>\n",
       "    <tr>\n",
       "      <th>779</th>\n",
       "      <td>Ariana Grande</td>\n",
       "      <td>Not Just On Christmas</td>\n",
       "      <td>/a/ariana+grande/not+just+on+christmas_2110513...</td>\n",
       "      <td>[Refrain 1]  \\nI'll love you till I die, boy  ...</td>\n",
       "    </tr>\n",
       "  </tbody>\n",
       "</table>\n",
       "<p>780 rows × 4 columns</p>\n",
       "</div>"
      ],
      "text/plain": [
       "            artist                             song  \\\n",
       "0             ABBA            Ahe's My Kind Of Girl   \n",
       "1             ABBA                 Andante, Andante   \n",
       "2             ABBA                   As Good As New   \n",
       "3             ABBA                             Bang   \n",
       "4             ABBA                 Bang-A-Boomerang   \n",
       "..             ...                              ...   \n",
       "775  Ariana Grande                   Direct Contact   \n",
       "776  Ariana Grande                           Higher   \n",
       "777  Ariana Grande                 Honeymoon Avenue   \n",
       "778  Ariana Grande  Just A Little Bit Of Your Heart   \n",
       "779  Ariana Grande            Not Just On Christmas   \n",
       "\n",
       "                                                  link  \\\n",
       "0           /a/abba/ahes+my+kind+of+girl_20598417.html   \n",
       "1                /a/abba/andante+andante_20002708.html   \n",
       "2                 /a/abba/as+good+as+new_20003033.html   \n",
       "3                           /a/abba/bang_20598415.html   \n",
       "4               /a/abba/bang+a+boomerang_20002668.html   \n",
       "..                                                 ...   \n",
       "775      /a/ariana+grande/direct+contact_21066591.html   \n",
       "776              /a/ariana+grande/higher_20979966.html   \n",
       "777    /a/ariana+grande/honeymoon+avenue_20996813.html   \n",
       "778  /a/ariana+grande/just+a+little+bit+of+your+hea...   \n",
       "779  /a/ariana+grande/not+just+on+christmas_2110513...   \n",
       "\n",
       "                                                  text  \n",
       "0    Look at her face, it's a wonderful face  \\nAnd...  \n",
       "1    Take it easy with me, please  \\nTouch me gentl...  \n",
       "2    I'll never know why I had to go  \\nWhy I had t...  \n",
       "3    Making somebody happy is a question of give an...  \n",
       "4    Making somebody happy is a question of give an...  \n",
       "..                                                 ...  \n",
       "775  If you were mine, boy! There would no be no mo...  \n",
       "776  (Hahaha) lalala uhuh  \\nBeen runnin' 'round in...  \n",
       "777  I looked in my rear view mirror and  \\nIt seem...  \n",
       "778  [Verse 1]  \\nOh, oh, oh, oh  \\nI don't ever as...  \n",
       "779  [Refrain 1]  \\nI'll love you till I die, boy  ...  \n",
       "\n",
       "[780 rows x 4 columns]"
      ]
     },
     "execution_count": 5,
     "metadata": {},
     "output_type": "execute_result"
    }
   ],
   "source": [
    "df.head(780)"
   ]
  },
  {
   "cell_type": "code",
   "execution_count": 6,
   "id": "6a39b4e9-234b-4b7d-9fae-24161d999dcf",
   "metadata": {},
   "outputs": [
    {
     "data": {
      "text/plain": [
       "artist    0\n",
       "song      0\n",
       "link      0\n",
       "text      0\n",
       "dtype: int64"
      ]
     },
     "execution_count": 6,
     "metadata": {},
     "output_type": "execute_result"
    }
   ],
   "source": [
    "df.isnull().sum()"
   ]
  },
  {
   "cell_type": "code",
   "execution_count": 7,
   "id": "8e4a377d-7944-4492-9e3d-e500b2c94c52",
   "metadata": {},
   "outputs": [],
   "source": [
    "df = df.sample(20000).drop('link', axis=1).reset_index(drop=True)"
   ]
  },
  {
   "cell_type": "code",
   "execution_count": 8,
   "id": "23e73afe-41b4-474a-aabc-52b162fdf6d3",
   "metadata": {},
   "outputs": [
    {
     "data": {
      "text/html": [
       "<div>\n",
       "<style scoped>\n",
       "    .dataframe tbody tr th:only-of-type {\n",
       "        vertical-align: middle;\n",
       "    }\n",
       "\n",
       "    .dataframe tbody tr th {\n",
       "        vertical-align: top;\n",
       "    }\n",
       "\n",
       "    .dataframe thead th {\n",
       "        text-align: right;\n",
       "    }\n",
       "</style>\n",
       "<table border=\"1\" class=\"dataframe\">\n",
       "  <thead>\n",
       "    <tr style=\"text-align: right;\">\n",
       "      <th></th>\n",
       "      <th>artist</th>\n",
       "      <th>song</th>\n",
       "      <th>text</th>\n",
       "    </tr>\n",
       "  </thead>\n",
       "  <tbody>\n",
       "    <tr>\n",
       "      <th>0</th>\n",
       "      <td>Old 97's</td>\n",
       "      <td>Bloomington</td>\n",
       "      <td>She drove a blue car around Bloomington  \\nShe...</td>\n",
       "    </tr>\n",
       "    <tr>\n",
       "      <th>1</th>\n",
       "      <td>Flo-Rida</td>\n",
       "      <td>Hey Jasmin</td>\n",
       "      <td>Yeah Flo Rida... I Run The World With This One...</td>\n",
       "    </tr>\n",
       "    <tr>\n",
       "      <th>2</th>\n",
       "      <td>Michael W. Smith</td>\n",
       "      <td>All I Want</td>\n",
       "      <td>All I have in this world  \\nIs fire from above...</td>\n",
       "    </tr>\n",
       "    <tr>\n",
       "      <th>3</th>\n",
       "      <td>Bill Withers</td>\n",
       "      <td>Ruby Lee</td>\n",
       "      <td>Staring at shadows on the wall  \\nWish I knew ...</td>\n",
       "    </tr>\n",
       "    <tr>\n",
       "      <th>4</th>\n",
       "      <td>NOFX</td>\n",
       "      <td>Pump Up The Valium</td>\n",
       "      <td>One time weekly rate twelve by twelve room  \\n...</td>\n",
       "    </tr>\n",
       "    <tr>\n",
       "      <th>...</th>\n",
       "      <td>...</td>\n",
       "      <td>...</td>\n",
       "      <td>...</td>\n",
       "    </tr>\n",
       "    <tr>\n",
       "      <th>4995</th>\n",
       "      <td>Xandria</td>\n",
       "      <td>Vampire</td>\n",
       "      <td>Dark are the streets, gloom's creeping out of ...</td>\n",
       "    </tr>\n",
       "    <tr>\n",
       "      <th>4996</th>\n",
       "      <td>Wishbone Ash</td>\n",
       "      <td>So Many Things To Say</td>\n",
       "      <td>You want me to go and steal  \\nA million dolla...</td>\n",
       "    </tr>\n",
       "    <tr>\n",
       "      <th>4997</th>\n",
       "      <td>Judas Priest</td>\n",
       "      <td>Victim Of Changes</td>\n",
       "      <td>Whiskey woman don't you know that you are driv...</td>\n",
       "    </tr>\n",
       "    <tr>\n",
       "      <th>4998</th>\n",
       "      <td>Helloween</td>\n",
       "      <td>Cold Sweat</td>\n",
       "      <td>I put my money in the suitcase  \\nAnd headed f...</td>\n",
       "    </tr>\n",
       "    <tr>\n",
       "      <th>4999</th>\n",
       "      <td>Next To Normal</td>\n",
       "      <td>Aftershocks</td>\n",
       "      <td>Gabe  \\nThey've managed to get rid of me,  \\nR...</td>\n",
       "    </tr>\n",
       "  </tbody>\n",
       "</table>\n",
       "<p>5000 rows × 3 columns</p>\n",
       "</div>"
      ],
      "text/plain": [
       "                artist                   song  \\\n",
       "0             Old 97's            Bloomington   \n",
       "1             Flo-Rida             Hey Jasmin   \n",
       "2     Michael W. Smith             All I Want   \n",
       "3         Bill Withers               Ruby Lee   \n",
       "4                 NOFX     Pump Up The Valium   \n",
       "...                ...                    ...   \n",
       "4995           Xandria                Vampire   \n",
       "4996      Wishbone Ash  So Many Things To Say   \n",
       "4997      Judas Priest      Victim Of Changes   \n",
       "4998         Helloween             Cold Sweat   \n",
       "4999    Next To Normal            Aftershocks   \n",
       "\n",
       "                                                   text  \n",
       "0     She drove a blue car around Bloomington  \\nShe...  \n",
       "1     Yeah Flo Rida... I Run The World With This One...  \n",
       "2     All I have in this world  \\nIs fire from above...  \n",
       "3     Staring at shadows on the wall  \\nWish I knew ...  \n",
       "4     One time weekly rate twelve by twelve room  \\n...  \n",
       "...                                                 ...  \n",
       "4995  Dark are the streets, gloom's creeping out of ...  \n",
       "4996  You want me to go and steal  \\nA million dolla...  \n",
       "4997  Whiskey woman don't you know that you are driv...  \n",
       "4998  I put my money in the suitcase  \\nAnd headed f...  \n",
       "4999  Gabe  \\nThey've managed to get rid of me,  \\nR...  \n",
       "\n",
       "[5000 rows x 3 columns]"
      ]
     },
     "execution_count": 8,
     "metadata": {},
     "output_type": "execute_result"
    }
   ],
   "source": [
    "df.head(5000)"
   ]
  },
  {
   "cell_type": "code",
   "execution_count": 9,
   "id": "04d967d8-1aaf-41d8-b6b6-599b25cbec93",
   "metadata": {},
   "outputs": [
    {
     "data": {
      "text/plain": [
       "\"She drove a blue car around Bloomington  \\nShe was a thin girl but she had substance  \\nShe said that most girls who come to Bloomington  \\nOnly come here to find husbands  \\nThe existence of God was confirmed  \\nBy the way she unfolded herself alongside  \\nAnd I tried to harden my heart  \\nBut she wouldn't let me, she wouldn't let me  \\nOh oh Bloomington, Bloomington  \\nWhen the rest of the world is over and done  \\nOh oh you'll still be the only one  \\nI'll ever love Bloomington  \\nIn a park that doubled as a parking lot  \\nThere was music it was free  \\nOh the girl in pink took a sip of my drink  \\nAnd laid down next to me  \\nYeah the way she unfolded herself  \\nWas an earthquake a hurricane tidal wave flood  \\nThis is love baby this is love  \\nThe moment she let me, the moment she let me  \\nOh Bloomington, Bloomington  \\nWhen the rest of the world is over and done  \\nOh oh you'll still be the only one  \\nI'll ever love Bloomington  \\nShe drove a blue car around Bloomington  \\nShe was a thin girl but she had substance  \\nShe said that most girls who come to Bloomington  \\nOnly come here to find husbands  \\nBloomington, Bloomington  \\nWhen the rest of the world is over and done  \\nOh oh you'll still be the only one  \\nI'll ever love Bloomington  \\nShe drove a blue car around Bloomington  \\nShe was a thin girl but she had substance  \\nShe said that most girls who come to Bloomington  \\nOnly come here to find husbands  \\nBloomington, Bloomington  \\nWhen the rest of the world is over and done  \\nOh oh you'll still be the only one  \\nI'll ever love Bloomington  \\nBloomington, Bloomington  \\nWhen the rest of the world is over and done  \\nYou'll still be the only one  \\nI'll ever love Bloomington  \\nYou'll still be the only one  \\nI'll ever love Bloomington  \\n\\n\""
      ]
     },
     "execution_count": 9,
     "metadata": {},
     "output_type": "execute_result"
    }
   ],
   "source": [
    "df['text'][0]"
   ]
  },
  {
   "cell_type": "code",
   "execution_count": null,
   "id": "00e5a94d-8e0c-42a8-b371-dfa19d174c63",
   "metadata": {},
   "outputs": [],
   "source": []
  },
  {
   "cell_type": "code",
   "execution_count": 10,
   "id": "47ccbed6-609b-4a44-8c05-b0529789cfde",
   "metadata": {},
   "outputs": [
    {
     "data": {
      "text/plain": [
       "(20000, 3)"
      ]
     },
     "execution_count": 10,
     "metadata": {},
     "output_type": "execute_result"
    }
   ],
   "source": [
    "df.shape"
   ]
  },
  {
   "cell_type": "markdown",
   "id": "8e4c5fba-e6ea-4505-bef0-4838cf468ecf",
   "metadata": {},
   "source": [
    "Text Cleaning/ Text Preporcessing"
   ]
  },
  {
   "cell_type": "code",
   "execution_count": 11,
   "id": "c69afea4-c9b9-49e9-b2d0-704c1ac29204",
   "metadata": {},
   "outputs": [],
   "source": [
    "df['text'] = df['text'].str.lower().replace(r'^\\w\\s', '').replace(r'\\n',' ', regex = True)"
   ]
  },
  {
   "cell_type": "code",
   "execution_count": 12,
   "id": "9f3d64b0-2c3d-4776-85ea-6d6da839a710",
   "metadata": {},
   "outputs": [
    {
     "data": {
      "text/html": [
       "<div>\n",
       "<style scoped>\n",
       "    .dataframe tbody tr th:only-of-type {\n",
       "        vertical-align: middle;\n",
       "    }\n",
       "\n",
       "    .dataframe tbody tr th {\n",
       "        vertical-align: top;\n",
       "    }\n",
       "\n",
       "    .dataframe thead th {\n",
       "        text-align: right;\n",
       "    }\n",
       "</style>\n",
       "<table border=\"1\" class=\"dataframe\">\n",
       "  <thead>\n",
       "    <tr style=\"text-align: right;\">\n",
       "      <th></th>\n",
       "      <th>artist</th>\n",
       "      <th>song</th>\n",
       "      <th>text</th>\n",
       "    </tr>\n",
       "  </thead>\n",
       "  <tbody>\n",
       "    <tr>\n",
       "      <th>19995</th>\n",
       "      <td>Pitbull</td>\n",
       "      <td>Celebrate</td>\n",
       "      <td>mr. worldwide   let's celebrate   1, 2, 1, 2, ...</td>\n",
       "    </tr>\n",
       "    <tr>\n",
       "      <th>19996</th>\n",
       "      <td>Will Smith</td>\n",
       "      <td>Yes Yes Y'all</td>\n",
       "      <td>yes   at the start of the new jiggyness   with...</td>\n",
       "    </tr>\n",
       "    <tr>\n",
       "      <th>19997</th>\n",
       "      <td>Roxette</td>\n",
       "      <td>I Remember You</td>\n",
       "      <td>are you ready? go!   i hear your footsteps lik...</td>\n",
       "    </tr>\n",
       "    <tr>\n",
       "      <th>19998</th>\n",
       "      <td>Usher</td>\n",
       "      <td>Bedtime</td>\n",
       "      <td>craving your body all through the night   feel...</td>\n",
       "    </tr>\n",
       "    <tr>\n",
       "      <th>19999</th>\n",
       "      <td>Olivia Newton-John</td>\n",
       "      <td>Boats Against The Current</td>\n",
       "      <td>i know it's over   you know it's over   we're ...</td>\n",
       "    </tr>\n",
       "  </tbody>\n",
       "</table>\n",
       "</div>"
      ],
      "text/plain": [
       "                   artist                       song  \\\n",
       "19995             Pitbull                  Celebrate   \n",
       "19996          Will Smith              Yes Yes Y'all   \n",
       "19997             Roxette             I Remember You   \n",
       "19998               Usher                    Bedtime   \n",
       "19999  Olivia Newton-John  Boats Against The Current   \n",
       "\n",
       "                                                    text  \n",
       "19995  mr. worldwide   let's celebrate   1, 2, 1, 2, ...  \n",
       "19996  yes   at the start of the new jiggyness   with...  \n",
       "19997  are you ready? go!   i hear your footsteps lik...  \n",
       "19998  craving your body all through the night   feel...  \n",
       "19999  i know it's over   you know it's over   we're ...  "
      ]
     },
     "execution_count": 12,
     "metadata": {},
     "output_type": "execute_result"
    }
   ],
   "source": [
    "df.tail(5)"
   ]
  },
  {
   "cell_type": "code",
   "execution_count": 13,
   "id": "cb0086f8-bf65-4a7d-8ee9-b14d194468e5",
   "metadata": {},
   "outputs": [],
   "source": [
    "import nltk\n",
    "from nltk.stem.porter import PorterStemmer"
   ]
  },
  {
   "cell_type": "code",
   "execution_count": 14,
   "id": "8ec61ad4-0a18-4f8d-9ae2-71bfbe22c10a",
   "metadata": {},
   "outputs": [],
   "source": [
    "stemmer = PorterStemmer()"
   ]
  },
  {
   "cell_type": "code",
   "execution_count": 15,
   "id": "455bb1b3-a6a1-42cd-a261-48cd5d858411",
   "metadata": {},
   "outputs": [],
   "source": [
    "def token(txt):\n",
    "    token = nltk.word_tokenize(txt)\n",
    "    a =[stemmer.stem(w) for w in token]\n",
    "    return \" \".join(a)"
   ]
  },
  {
   "cell_type": "code",
   "execution_count": 16,
   "id": "c4f21d94-074a-4632-ba0f-a152d6334877",
   "metadata": {
    "scrolled": true
   },
   "outputs": [
    {
     "data": {
      "text/plain": [
       "'you are beauti , beauti'"
      ]
     },
     "execution_count": 16,
     "metadata": {},
     "output_type": "execute_result"
    }
   ],
   "source": [
    "token(\"you are beautiful, beauty\")"
   ]
  },
  {
   "cell_type": "code",
   "execution_count": 17,
   "id": "423cdf67-e064-4a2a-a834-6c6a5b084280",
   "metadata": {},
   "outputs": [
    {
     "data": {
      "text/plain": [
       "0        she drove a blue car around bloomington she wa...\n",
       "1        yeah flo rida ... i run the world with thi one...\n",
       "2        all i have in thi world is fire from abov all ...\n",
       "3        stare at shadow on the wall wish i knew of som...\n",
       "4        one time weekli rate twelv by twelv room strap...\n",
       "                               ...                        \n",
       "19995    mr. worldwid let 's celebr 1 , 2 , 1 , 2 , 3 ,...\n",
       "19996    ye at the start of the new jiggy with the trac...\n",
       "19997    are you readi ? go ! i hear your footstep like...\n",
       "19998    crave your bodi all through the night feel lik...\n",
       "19999    i know it 's over you know it 's over we 're j...\n",
       "Name: text, Length: 20000, dtype: object"
      ]
     },
     "execution_count": 17,
     "metadata": {},
     "output_type": "execute_result"
    }
   ],
   "source": [
    "df['text'].apply(lambda x: token(x))"
   ]
  },
  {
   "cell_type": "code",
   "execution_count": 18,
   "id": "a39bcbaa-0c2c-4218-8340-ab4e48b64e52",
   "metadata": {
    "scrolled": true
   },
   "outputs": [],
   "source": [
    "from sklearn.feature_extraction.text import TfidfVectorizer\n",
    "from sklearn.metrics.pairwise import cosine_similarity"
   ]
  },
  {
   "cell_type": "code",
   "execution_count": 19,
   "id": "74f7c286-e113-4bc1-81c9-a4692bf4b5a2",
   "metadata": {},
   "outputs": [],
   "source": [
    "tfid = TfidfVectorizer(analyzer='word', stop_words='english')"
   ]
  },
  {
   "cell_type": "code",
   "execution_count": 20,
   "id": "ced49d70-2a83-4e12-9f76-3ff6b08da754",
   "metadata": {},
   "outputs": [],
   "source": [
    "matrix = tfid.fit_transform(df['text'])"
   ]
  },
  {
   "cell_type": "code",
   "execution_count": 21,
   "id": "709d88a4-dabe-4459-a197-ff3039a24297",
   "metadata": {},
   "outputs": [],
   "source": [
    "similar = cosine_similarity(matrix)"
   ]
  },
  {
   "cell_type": "code",
   "execution_count": 22,
   "id": "0aba46f4-09c3-4d2b-bee2-a9b9f56d6f56",
   "metadata": {},
   "outputs": [
    {
     "data": {
      "text/plain": [
       "array([1.        , 0.04036258, 0.04460493, ..., 0.01449713, 0.02712165,\n",
       "       0.00922924], shape=(20000,))"
      ]
     },
     "execution_count": 22,
     "metadata": {},
     "output_type": "execute_result"
    }
   ],
   "source": [
    "similar[0]"
   ]
  },
  {
   "cell_type": "code",
   "execution_count": 23,
   "id": "1c246fa9-278b-4dbd-9aaf-420fe615ffba",
   "metadata": {},
   "outputs": [
    {
     "data": {
      "text/html": [
       "<div>\n",
       "<style scoped>\n",
       "    .dataframe tbody tr th:only-of-type {\n",
       "        vertical-align: middle;\n",
       "    }\n",
       "\n",
       "    .dataframe tbody tr th {\n",
       "        vertical-align: top;\n",
       "    }\n",
       "\n",
       "    .dataframe thead th {\n",
       "        text-align: right;\n",
       "    }\n",
       "</style>\n",
       "<table border=\"1\" class=\"dataframe\">\n",
       "  <thead>\n",
       "    <tr style=\"text-align: right;\">\n",
       "      <th></th>\n",
       "      <th>artist</th>\n",
       "      <th>song</th>\n",
       "      <th>text</th>\n",
       "    </tr>\n",
       "  </thead>\n",
       "  <tbody>\n",
       "    <tr>\n",
       "      <th>10321</th>\n",
       "      <td>Ariana Grande</td>\n",
       "      <td>Dangerous Woman</td>\n",
       "      <td>[verse 1]   don't need permission   made my de...</td>\n",
       "    </tr>\n",
       "  </tbody>\n",
       "</table>\n",
       "</div>"
      ],
      "text/plain": [
       "              artist             song  \\\n",
       "10321  Ariana Grande  Dangerous Woman   \n",
       "\n",
       "                                                    text  \n",
       "10321  [verse 1]   don't need permission   made my de...  "
      ]
     },
     "execution_count": 23,
     "metadata": {},
     "output_type": "execute_result"
    }
   ],
   "source": [
    "df[df['song'] == 'Dangerous Woman']"
   ]
  },
  {
   "cell_type": "markdown",
   "id": "c79b8b61-5862-43a9-b96a-65a519b59ad9",
   "metadata": {},
   "source": [
    "Recommender Function"
   ]
  },
  {
   "cell_type": "code",
   "execution_count": 24,
   "id": "90f3a039-5665-4d1a-a8c6-8fe09e0b8754",
   "metadata": {},
   "outputs": [],
   "source": [
    "def recommender(song_name):\n",
    "    idx = df[df['song'] == song_name].index[0]\n",
    "    distance = sorted(list(enumerate(similar[idx])), reverse = True, key = lambda x:x[1])\n",
    "    song = []\n",
    "    for s_id in distance[1:5]:\n",
    "        song.append(df.iloc[s_id[0]].song)\n",
    "    return song"
   ]
  },
  {
   "cell_type": "code",
   "execution_count": 25,
   "id": "f3cbb8f7-82ff-4b75-affd-9b7f3adc5812",
   "metadata": {},
   "outputs": [],
   "source": [
    "import pickle"
   ]
  },
  {
   "cell_type": "code",
   "execution_count": 26,
   "id": "982c4705-2b69-445c-9488-a319a415a2fe",
   "metadata": {},
   "outputs": [],
   "source": [
    "pickle.dump(similar, open(\"similarity.pkl\", \"wb\"))"
   ]
  },
  {
   "cell_type": "code",
   "execution_count": 27,
   "id": "80db8ffa-31ac-4475-8bcf-f337bb779f8b",
   "metadata": {},
   "outputs": [],
   "source": [
    "pickle.dump(df, open(\"df.pkl\", \"wb\"))"
   ]
  },
  {
   "cell_type": "code",
   "execution_count": null,
   "id": "f7e08598-540c-49fd-9761-78299330327d",
   "metadata": {},
   "outputs": [],
   "source": []
  }
 ],
 "metadata": {
  "kernelspec": {
   "display_name": "Python 3",
   "language": "python",
   "name": "python3"
  },
  "language_info": {
   "codemirror_mode": {
    "name": "ipython",
    "version": 3
   },
   "file_extension": ".py",
   "mimetype": "text/x-python",
   "name": "python",
   "nbconvert_exporter": "python",
   "pygments_lexer": "ipython3",
   "version": "3.13.2"
  }
 },
 "nbformat": 4,
 "nbformat_minor": 5
}
