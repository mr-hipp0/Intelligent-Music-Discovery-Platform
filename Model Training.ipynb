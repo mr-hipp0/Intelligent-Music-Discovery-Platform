{
 "cells": [
  {
   "cell_type": "code",
   "execution_count": 1,
   "id": "35846a2d-c59d-4114-91d4-b0b7d65db011",
   "metadata": {},
   "outputs": [],
   "source": [
    "import pandas as pd"
   ]
  },
  {
   "cell_type": "code",
   "execution_count": 2,
   "id": "540402e0-610a-4321-9e11-de55ca5049b6",
   "metadata": {},
   "outputs": [],
   "source": [
    "df = pd.read_csv(\"spotify_millsongdata.csv\")"
   ]
  },
  {
   "cell_type": "code",
   "execution_count": 3,
   "id": "29f31c80-a4eb-40c4-9325-f6de984d34da",
   "metadata": {
    "scrolled": true
   },
   "outputs": [
    {
     "data": {
      "text/html": [
       "<div>\n",
       "<style scoped>\n",
       "    .dataframe tbody tr th:only-of-type {\n",
       "        vertical-align: middle;\n",
       "    }\n",
       "\n",
       "    .dataframe tbody tr th {\n",
       "        vertical-align: top;\n",
       "    }\n",
       "\n",
       "    .dataframe thead th {\n",
       "        text-align: right;\n",
       "    }\n",
       "</style>\n",
       "<table border=\"1\" class=\"dataframe\">\n",
       "  <thead>\n",
       "    <tr style=\"text-align: right;\">\n",
       "      <th></th>\n",
       "      <th>artist</th>\n",
       "      <th>song</th>\n",
       "      <th>link</th>\n",
       "      <th>text</th>\n",
       "    </tr>\n",
       "  </thead>\n",
       "  <tbody>\n",
       "    <tr>\n",
       "      <th>0</th>\n",
       "      <td>ABBA</td>\n",
       "      <td>Ahe's My Kind Of Girl</td>\n",
       "      <td>/a/abba/ahes+my+kind+of+girl_20598417.html</td>\n",
       "      <td>Look at her face, it's a wonderful face  \\r\\nA...</td>\n",
       "    </tr>\n",
       "    <tr>\n",
       "      <th>1</th>\n",
       "      <td>ABBA</td>\n",
       "      <td>Andante, Andante</td>\n",
       "      <td>/a/abba/andante+andante_20002708.html</td>\n",
       "      <td>Take it easy with me, please  \\r\\nTouch me gen...</td>\n",
       "    </tr>\n",
       "    <tr>\n",
       "      <th>2</th>\n",
       "      <td>ABBA</td>\n",
       "      <td>As Good As New</td>\n",
       "      <td>/a/abba/as+good+as+new_20003033.html</td>\n",
       "      <td>I'll never know why I had to go  \\r\\nWhy I had...</td>\n",
       "    </tr>\n",
       "    <tr>\n",
       "      <th>3</th>\n",
       "      <td>ABBA</td>\n",
       "      <td>Bang</td>\n",
       "      <td>/a/abba/bang_20598415.html</td>\n",
       "      <td>Making somebody happy is a question of give an...</td>\n",
       "    </tr>\n",
       "    <tr>\n",
       "      <th>4</th>\n",
       "      <td>ABBA</td>\n",
       "      <td>Bang-A-Boomerang</td>\n",
       "      <td>/a/abba/bang+a+boomerang_20002668.html</td>\n",
       "      <td>Making somebody happy is a question of give an...</td>\n",
       "    </tr>\n",
       "    <tr>\n",
       "      <th>...</th>\n",
       "      <td>...</td>\n",
       "      <td>...</td>\n",
       "      <td>...</td>\n",
       "      <td>...</td>\n",
       "    </tr>\n",
       "    <tr>\n",
       "      <th>775</th>\n",
       "      <td>Ariana Grande</td>\n",
       "      <td>Direct Contact</td>\n",
       "      <td>/a/ariana+grande/direct+contact_21066591.html</td>\n",
       "      <td>If you were mine, boy! There would no be no mo...</td>\n",
       "    </tr>\n",
       "    <tr>\n",
       "      <th>776</th>\n",
       "      <td>Ariana Grande</td>\n",
       "      <td>Higher</td>\n",
       "      <td>/a/ariana+grande/higher_20979966.html</td>\n",
       "      <td>(Hahaha) lalala uhuh  \\r\\nBeen runnin' 'round ...</td>\n",
       "    </tr>\n",
       "    <tr>\n",
       "      <th>777</th>\n",
       "      <td>Ariana Grande</td>\n",
       "      <td>Honeymoon Avenue</td>\n",
       "      <td>/a/ariana+grande/honeymoon+avenue_20996813.html</td>\n",
       "      <td>I looked in my rear view mirror and  \\r\\nIt se...</td>\n",
       "    </tr>\n",
       "    <tr>\n",
       "      <th>778</th>\n",
       "      <td>Ariana Grande</td>\n",
       "      <td>Just A Little Bit Of Your Heart</td>\n",
       "      <td>/a/ariana+grande/just+a+little+bit+of+your+hea...</td>\n",
       "      <td>[Verse 1]  \\r\\nOh, oh, oh, oh  \\r\\nI don't eve...</td>\n",
       "    </tr>\n",
       "    <tr>\n",
       "      <th>779</th>\n",
       "      <td>Ariana Grande</td>\n",
       "      <td>Not Just On Christmas</td>\n",
       "      <td>/a/ariana+grande/not+just+on+christmas_2110513...</td>\n",
       "      <td>[Refrain 1]  \\r\\nI'll love you till I die, boy...</td>\n",
       "    </tr>\n",
       "  </tbody>\n",
       "</table>\n",
       "<p>780 rows × 4 columns</p>\n",
       "</div>"
      ],
      "text/plain": [
       "            artist                             song  \\\n",
       "0             ABBA            Ahe's My Kind Of Girl   \n",
       "1             ABBA                 Andante, Andante   \n",
       "2             ABBA                   As Good As New   \n",
       "3             ABBA                             Bang   \n",
       "4             ABBA                 Bang-A-Boomerang   \n",
       "..             ...                              ...   \n",
       "775  Ariana Grande                   Direct Contact   \n",
       "776  Ariana Grande                           Higher   \n",
       "777  Ariana Grande                 Honeymoon Avenue   \n",
       "778  Ariana Grande  Just A Little Bit Of Your Heart   \n",
       "779  Ariana Grande            Not Just On Christmas   \n",
       "\n",
       "                                                  link  \\\n",
       "0           /a/abba/ahes+my+kind+of+girl_20598417.html   \n",
       "1                /a/abba/andante+andante_20002708.html   \n",
       "2                 /a/abba/as+good+as+new_20003033.html   \n",
       "3                           /a/abba/bang_20598415.html   \n",
       "4               /a/abba/bang+a+boomerang_20002668.html   \n",
       "..                                                 ...   \n",
       "775      /a/ariana+grande/direct+contact_21066591.html   \n",
       "776              /a/ariana+grande/higher_20979966.html   \n",
       "777    /a/ariana+grande/honeymoon+avenue_20996813.html   \n",
       "778  /a/ariana+grande/just+a+little+bit+of+your+hea...   \n",
       "779  /a/ariana+grande/not+just+on+christmas_2110513...   \n",
       "\n",
       "                                                  text  \n",
       "0    Look at her face, it's a wonderful face  \\r\\nA...  \n",
       "1    Take it easy with me, please  \\r\\nTouch me gen...  \n",
       "2    I'll never know why I had to go  \\r\\nWhy I had...  \n",
       "3    Making somebody happy is a question of give an...  \n",
       "4    Making somebody happy is a question of give an...  \n",
       "..                                                 ...  \n",
       "775  If you were mine, boy! There would no be no mo...  \n",
       "776  (Hahaha) lalala uhuh  \\r\\nBeen runnin' 'round ...  \n",
       "777  I looked in my rear view mirror and  \\r\\nIt se...  \n",
       "778  [Verse 1]  \\r\\nOh, oh, oh, oh  \\r\\nI don't eve...  \n",
       "779  [Refrain 1]  \\r\\nI'll love you till I die, boy...  \n",
       "\n",
       "[780 rows x 4 columns]"
      ]
     },
     "execution_count": 3,
     "metadata": {},
     "output_type": "execute_result"
    }
   ],
   "source": [
    "df.head(780)"
   ]
  },
  {
   "cell_type": "code",
   "execution_count": 4,
   "id": "6a39b4e9-234b-4b7d-9fae-24161d999dcf",
   "metadata": {},
   "outputs": [
    {
     "data": {
      "text/plain": [
       "artist    0\n",
       "song      0\n",
       "link      0\n",
       "text      0\n",
       "dtype: int64"
      ]
     },
     "execution_count": 4,
     "metadata": {},
     "output_type": "execute_result"
    }
   ],
   "source": [
    "df.isnull().sum()"
   ]
  },
  {
   "cell_type": "code",
   "execution_count": 5,
   "id": "8e4a377d-7944-4492-9e3d-e500b2c94c52",
   "metadata": {},
   "outputs": [],
   "source": [
    "df = df.sample(40000).drop('link', axis=1).reset_index(drop=True)"
   ]
  },
  {
   "cell_type": "code",
   "execution_count": 6,
   "id": "23e73afe-41b4-474a-aabc-52b162fdf6d3",
   "metadata": {},
   "outputs": [
    {
     "data": {
      "text/html": [
       "<div>\n",
       "<style scoped>\n",
       "    .dataframe tbody tr th:only-of-type {\n",
       "        vertical-align: middle;\n",
       "    }\n",
       "\n",
       "    .dataframe tbody tr th {\n",
       "        vertical-align: top;\n",
       "    }\n",
       "\n",
       "    .dataframe thead th {\n",
       "        text-align: right;\n",
       "    }\n",
       "</style>\n",
       "<table border=\"1\" class=\"dataframe\">\n",
       "  <thead>\n",
       "    <tr style=\"text-align: right;\">\n",
       "      <th></th>\n",
       "      <th>artist</th>\n",
       "      <th>song</th>\n",
       "      <th>text</th>\n",
       "    </tr>\n",
       "  </thead>\n",
       "  <tbody>\n",
       "    <tr>\n",
       "      <th>0</th>\n",
       "      <td>Donna Summer</td>\n",
       "      <td>(Theme) Once Upon A Time</td>\n",
       "      <td>(Voice monologue over \"Once Upon A Time\" instr...</td>\n",
       "    </tr>\n",
       "    <tr>\n",
       "      <th>1</th>\n",
       "      <td>Garth Brooks</td>\n",
       "      <td>Wild As The Wind</td>\n",
       "      <td>Johnny grew up  \\r\\nOn the dark side of the la...</td>\n",
       "    </tr>\n",
       "    <tr>\n",
       "      <th>2</th>\n",
       "      <td>Leann Rimes</td>\n",
       "      <td>Long Night</td>\n",
       "      <td>Feel the underground breeze as the trains good...</td>\n",
       "    </tr>\n",
       "    <tr>\n",
       "      <th>3</th>\n",
       "      <td>Nina Simone</td>\n",
       "      <td>Keeper Of The Flame</td>\n",
       "      <td>I'm the keeper of the flame  \\r\\nMy torch of l...</td>\n",
       "    </tr>\n",
       "    <tr>\n",
       "      <th>4</th>\n",
       "      <td>Insane Clown Posse</td>\n",
       "      <td>Jack Jeckel</td>\n",
       "      <td>Boom shaka boom shaka  \\r\\nBoom shaka boom sha...</td>\n",
       "    </tr>\n",
       "    <tr>\n",
       "      <th>...</th>\n",
       "      <td>...</td>\n",
       "      <td>...</td>\n",
       "      <td>...</td>\n",
       "    </tr>\n",
       "    <tr>\n",
       "      <th>4995</th>\n",
       "      <td>Marillion</td>\n",
       "      <td>White Russian</td>\n",
       "      <td>Where do we go from here?  \\r\\nWhere do we go ...</td>\n",
       "    </tr>\n",
       "    <tr>\n",
       "      <th>4996</th>\n",
       "      <td>The Monkees</td>\n",
       "      <td>That Was Then, This Is Now</td>\n",
       "      <td>You always say you like my style.  \\r\\nYou say...</td>\n",
       "    </tr>\n",
       "    <tr>\n",
       "      <th>4997</th>\n",
       "      <td>Leann Rimes</td>\n",
       "      <td>Where I Stood</td>\n",
       "      <td>I don't know what I've done  \\r\\nOr if I like ...</td>\n",
       "    </tr>\n",
       "    <tr>\n",
       "      <th>4998</th>\n",
       "      <td>Phineas And Ferb</td>\n",
       "      <td>F-Games</td>\n",
       "      <td>Na-na na-na na  \\r\\nNa-na na-na na  \\r\\nNa-na ...</td>\n",
       "    </tr>\n",
       "    <tr>\n",
       "      <th>4999</th>\n",
       "      <td>Cyndi Lauper</td>\n",
       "      <td>Unconditional Love</td>\n",
       "      <td>And I want to be everything  \\r\\nYou want me t...</td>\n",
       "    </tr>\n",
       "  </tbody>\n",
       "</table>\n",
       "<p>5000 rows × 3 columns</p>\n",
       "</div>"
      ],
      "text/plain": [
       "                  artist                        song  \\\n",
       "0           Donna Summer    (Theme) Once Upon A Time   \n",
       "1           Garth Brooks            Wild As The Wind   \n",
       "2            Leann Rimes                  Long Night   \n",
       "3            Nina Simone         Keeper Of The Flame   \n",
       "4     Insane Clown Posse                 Jack Jeckel   \n",
       "...                  ...                         ...   \n",
       "4995           Marillion               White Russian   \n",
       "4996         The Monkees  That Was Then, This Is Now   \n",
       "4997         Leann Rimes               Where I Stood   \n",
       "4998    Phineas And Ferb                     F-Games   \n",
       "4999        Cyndi Lauper          Unconditional Love   \n",
       "\n",
       "                                                   text  \n",
       "0     (Voice monologue over \"Once Upon A Time\" instr...  \n",
       "1     Johnny grew up  \\r\\nOn the dark side of the la...  \n",
       "2     Feel the underground breeze as the trains good...  \n",
       "3     I'm the keeper of the flame  \\r\\nMy torch of l...  \n",
       "4     Boom shaka boom shaka  \\r\\nBoom shaka boom sha...  \n",
       "...                                                 ...  \n",
       "4995  Where do we go from here?  \\r\\nWhere do we go ...  \n",
       "4996  You always say you like my style.  \\r\\nYou say...  \n",
       "4997  I don't know what I've done  \\r\\nOr if I like ...  \n",
       "4998  Na-na na-na na  \\r\\nNa-na na-na na  \\r\\nNa-na ...  \n",
       "4999  And I want to be everything  \\r\\nYou want me t...  \n",
       "\n",
       "[5000 rows x 3 columns]"
      ]
     },
     "execution_count": 6,
     "metadata": {},
     "output_type": "execute_result"
    }
   ],
   "source": [
    "df.head(5000)"
   ]
  },
  {
   "cell_type": "code",
   "execution_count": 7,
   "id": "04d967d8-1aaf-41d8-b6b6-599b25cbec93",
   "metadata": {},
   "outputs": [
    {
     "data": {
      "text/plain": [
       "'(Voice monologue over \"Once Upon A Time\" instrumental)  \\r\\n  \\r\\nOnce upon a time, there was a girl  \\r\\nShe lived in the land of never-never  \\r\\nWhere everything real is unreal  \\r\\nAnd only fairy tales come true  \\r\\nSomething like me and you  \\r\\n  \\r\\nBut she believed that what she dreamed of could be real  \\r\\nSo she strived on to make it come true  \\r\\nFighting odds, not knowing what would come of her  \\r\\nNever giving up the hope within her  \\r\\n  \\r\\nShe carried on and on, because she believed  \\r\\nThat once, once in a time in her lifetime  \\r\\nThe things so unreal would be real  \\r\\n  \\r\\nAnd in the morning, one day when she awoke  \\r\\nTo find herself surrounded by the same old room  \\r\\nShe was disappointed  \\r\\n  \\r\\nSo she dreamed and she dreamed  \\r\\nAnd she dreamed and she dreamed and she dreamed  \\r\\nAnd she said that fairy tales do come true  \\r\\n\\'cause I believe, I believe  \\r\\n  \\r\\nAnd she kept trying, and she kept right on fighting  \\r\\nTill one day she met a man who held her tight  \\r\\nAnd she fell in love  \\r\\n  \\r\\nOnce upon a time, in the land of never-never  \\r\\nWhere all things real are unreal  \\r\\nThere lived a girl who believed  \\r\\nThat all things could be possible  \\r\\n  \\r\\nAnd one day she did awake  \\r\\nAnd found herself somewhere else  \\r\\nBeside her a brand new face  \\r\\nOf someone that she loved\\r\\n\\r\\n'"
      ]
     },
     "execution_count": 7,
     "metadata": {},
     "output_type": "execute_result"
    }
   ],
   "source": [
    "df['text'][0]"
   ]
  },
  {
   "cell_type": "code",
   "execution_count": null,
   "id": "00e5a94d-8e0c-42a8-b371-dfa19d174c63",
   "metadata": {},
   "outputs": [],
   "source": []
  },
  {
   "cell_type": "code",
   "execution_count": 8,
   "id": "47ccbed6-609b-4a44-8c05-b0529789cfde",
   "metadata": {},
   "outputs": [
    {
     "data": {
      "text/plain": [
       "(40000, 3)"
      ]
     },
     "execution_count": 8,
     "metadata": {},
     "output_type": "execute_result"
    }
   ],
   "source": [
    "df.shape"
   ]
  },
  {
   "cell_type": "markdown",
   "id": "8e4c5fba-e6ea-4505-bef0-4838cf468ecf",
   "metadata": {},
   "source": [
    "Text Cleaning/ Text Preporcessing"
   ]
  },
  {
   "cell_type": "code",
   "execution_count": 9,
   "id": "c69afea4-c9b9-49e9-b2d0-704c1ac29204",
   "metadata": {},
   "outputs": [],
   "source": [
    "df['text'] = df['text'].str.lower().replace(r'^\\w\\s', '').replace(r'\\n',' ', regex = True)"
   ]
  },
  {
   "cell_type": "code",
   "execution_count": 10,
   "id": "9f3d64b0-2c3d-4776-85ea-6d6da839a710",
   "metadata": {},
   "outputs": [
    {
     "data": {
      "text/html": [
       "<div>\n",
       "<style scoped>\n",
       "    .dataframe tbody tr th:only-of-type {\n",
       "        vertical-align: middle;\n",
       "    }\n",
       "\n",
       "    .dataframe tbody tr th {\n",
       "        vertical-align: top;\n",
       "    }\n",
       "\n",
       "    .dataframe thead th {\n",
       "        text-align: right;\n",
       "    }\n",
       "</style>\n",
       "<table border=\"1\" class=\"dataframe\">\n",
       "  <thead>\n",
       "    <tr style=\"text-align: right;\">\n",
       "      <th></th>\n",
       "      <th>artist</th>\n",
       "      <th>song</th>\n",
       "      <th>text</th>\n",
       "    </tr>\n",
       "  </thead>\n",
       "  <tbody>\n",
       "    <tr>\n",
       "      <th>39995</th>\n",
       "      <td>Vince Gill</td>\n",
       "      <td>If You Ever Have Forever In Mind</td>\n",
       "      <td>you're climbing mountains, i'm on a hill  \\r y...</td>\n",
       "    </tr>\n",
       "    <tr>\n",
       "      <th>39996</th>\n",
       "      <td>Nicki Minaj</td>\n",
       "      <td>Doin' It Well</td>\n",
       "      <td>[talkin: jadakiss]  \\r ay yo yo yo ay yo what!...</td>\n",
       "    </tr>\n",
       "    <tr>\n",
       "      <th>39997</th>\n",
       "      <td>Billy Joel</td>\n",
       "      <td>She's Right On Time</td>\n",
       "      <td>turn on all the christmas lights  \\r cause bab...</td>\n",
       "    </tr>\n",
       "    <tr>\n",
       "      <th>39998</th>\n",
       "      <td>Black Sabbath</td>\n",
       "      <td>Methademic</td>\n",
       "      <td>the epidemic from a crystal lie  \\r puts you i...</td>\n",
       "    </tr>\n",
       "    <tr>\n",
       "      <th>39999</th>\n",
       "      <td>Taylor Swift</td>\n",
       "      <td>Ours</td>\n",
       "      <td>elevator buttons and morning air,  \\r stranger...</td>\n",
       "    </tr>\n",
       "  </tbody>\n",
       "</table>\n",
       "</div>"
      ],
      "text/plain": [
       "              artist                              song  \\\n",
       "39995     Vince Gill  If You Ever Have Forever In Mind   \n",
       "39996    Nicki Minaj                     Doin' It Well   \n",
       "39997     Billy Joel               She's Right On Time   \n",
       "39998  Black Sabbath                        Methademic   \n",
       "39999   Taylor Swift                              Ours   \n",
       "\n",
       "                                                    text  \n",
       "39995  you're climbing mountains, i'm on a hill  \\r y...  \n",
       "39996  [talkin: jadakiss]  \\r ay yo yo yo ay yo what!...  \n",
       "39997  turn on all the christmas lights  \\r cause bab...  \n",
       "39998  the epidemic from a crystal lie  \\r puts you i...  \n",
       "39999  elevator buttons and morning air,  \\r stranger...  "
      ]
     },
     "execution_count": 10,
     "metadata": {},
     "output_type": "execute_result"
    }
   ],
   "source": [
    "df.tail(5)"
   ]
  },
  {
   "cell_type": "code",
   "execution_count": 11,
   "id": "cb0086f8-bf65-4a7d-8ee9-b14d194468e5",
   "metadata": {},
   "outputs": [],
   "source": [
    "import nltk\n",
    "from nltk.stem.porter import PorterStemmer"
   ]
  },
  {
   "cell_type": "code",
   "execution_count": 12,
   "id": "8ec61ad4-0a18-4f8d-9ae2-71bfbe22c10a",
   "metadata": {},
   "outputs": [],
   "source": [
    "stemmer = PorterStemmer()"
   ]
  },
  {
   "cell_type": "code",
   "execution_count": 13,
   "id": "455bb1b3-a6a1-42cd-a261-48cd5d858411",
   "metadata": {},
   "outputs": [],
   "source": [
    "def token(txt):\n",
    "    token = nltk.word_tokenize(txt)\n",
    "    a =[stemmer.stem(w) for w in token]\n",
    "    return \" \".join(a)"
   ]
  },
  {
   "cell_type": "code",
   "execution_count": 14,
   "id": "c4f21d94-074a-4632-ba0f-a152d6334877",
   "metadata": {
    "scrolled": true
   },
   "outputs": [
    {
     "data": {
      "text/plain": [
       "'you are beauti , beauti'"
      ]
     },
     "execution_count": 14,
     "metadata": {},
     "output_type": "execute_result"
    }
   ],
   "source": [
    "token(\"you are beautiful, beauty\")"
   ]
  },
  {
   "cell_type": "code",
   "execution_count": 15,
   "id": "423cdf67-e064-4a2a-a834-6c6a5b084280",
   "metadata": {},
   "outputs": [
    {
     "data": {
      "text/plain": [
       "0        ( voic monologu over `` onc upon a time '' ins...\n",
       "1        johnni grew up on the dark side of the law liv...\n",
       "2        feel the underground breez as the train good b...\n",
       "3        i 'm the keeper of the flame my torch of love ...\n",
       "4        boom shaka boom shaka boom shaka boom shaka bo...\n",
       "                               ...                        \n",
       "39995    you 're climb mountain , i 'm on a hill you 'r...\n",
       "39996    [ talkin : jadakiss ] ay yo yo yo ay yo what !...\n",
       "39997    turn on all the christma light caus babi 's co...\n",
       "39998    the epidem from a crystal lie put you in super...\n",
       "39999    elev button and morn air , stranger silenc mak...\n",
       "Name: text, Length: 40000, dtype: object"
      ]
     },
     "execution_count": 15,
     "metadata": {},
     "output_type": "execute_result"
    }
   ],
   "source": [
    "df['text'].apply(lambda x: token(x))"
   ]
  },
  {
   "cell_type": "code",
   "execution_count": 16,
   "id": "a39bcbaa-0c2c-4218-8340-ab4e48b64e52",
   "metadata": {
    "scrolled": true
   },
   "outputs": [],
   "source": [
    "from sklearn.feature_extraction.text import TfidfVectorizer\n",
    "from sklearn.metrics.pairwise import cosine_similarity"
   ]
  },
  {
   "cell_type": "code",
   "execution_count": 17,
   "id": "74f7c286-e113-4bc1-81c9-a4692bf4b5a2",
   "metadata": {},
   "outputs": [],
   "source": [
    "tfid = TfidfVectorizer(analyzer='word', stop_words='english')"
   ]
  },
  {
   "cell_type": "code",
   "execution_count": 18,
   "id": "ced49d70-2a83-4e12-9f76-3ff6b08da754",
   "metadata": {},
   "outputs": [],
   "source": [
    "matrix = tfid.fit_transform(df['text'])"
   ]
  },
  {
   "cell_type": "code",
   "execution_count": 19,
   "id": "709d88a4-dabe-4459-a197-ff3039a24297",
   "metadata": {},
   "outputs": [],
   "source": [
    "similar = cosine_similarity(matrix)"
   ]
  },
  {
   "cell_type": "code",
   "execution_count": 20,
   "id": "0aba46f4-09c3-4d2b-bee2-a9b9f56d6f56",
   "metadata": {},
   "outputs": [
    {
     "data": {
      "text/plain": [
       "array([1.        , 0.00765548, 0.03284577, ..., 0.07882268, 0.02054414,\n",
       "       0.03754434], shape=(40000,))"
      ]
     },
     "execution_count": 20,
     "metadata": {},
     "output_type": "execute_result"
    }
   ],
   "source": [
    "similar[0]"
   ]
  },
  {
   "cell_type": "code",
   "execution_count": 21,
   "id": "1c246fa9-278b-4dbd-9aaf-420fe615ffba",
   "metadata": {},
   "outputs": [
    {
     "data": {
      "text/html": [
       "<div>\n",
       "<style scoped>\n",
       "    .dataframe tbody tr th:only-of-type {\n",
       "        vertical-align: middle;\n",
       "    }\n",
       "\n",
       "    .dataframe tbody tr th {\n",
       "        vertical-align: top;\n",
       "    }\n",
       "\n",
       "    .dataframe thead th {\n",
       "        text-align: right;\n",
       "    }\n",
       "</style>\n",
       "<table border=\"1\" class=\"dataframe\">\n",
       "  <thead>\n",
       "    <tr style=\"text-align: right;\">\n",
       "      <th></th>\n",
       "      <th>artist</th>\n",
       "      <th>song</th>\n",
       "      <th>text</th>\n",
       "    </tr>\n",
       "  </thead>\n",
       "  <tbody>\n",
       "    <tr>\n",
       "      <th>13931</th>\n",
       "      <td>Ariana Grande</td>\n",
       "      <td>Dangerous Woman</td>\n",
       "      <td>[verse 1]  \\r don't need permission  \\r made m...</td>\n",
       "    </tr>\n",
       "  </tbody>\n",
       "</table>\n",
       "</div>"
      ],
      "text/plain": [
       "              artist             song  \\\n",
       "13931  Ariana Grande  Dangerous Woman   \n",
       "\n",
       "                                                    text  \n",
       "13931  [verse 1]  \\r don't need permission  \\r made m...  "
      ]
     },
     "execution_count": 21,
     "metadata": {},
     "output_type": "execute_result"
    }
   ],
   "source": [
    "df[df['song'] == 'Dangerous Woman']"
   ]
  },
  {
   "cell_type": "markdown",
   "id": "c79b8b61-5862-43a9-b96a-65a519b59ad9",
   "metadata": {},
   "source": [
    "Recommender Function"
   ]
  },
  {
   "cell_type": "code",
   "execution_count": 22,
   "id": "90f3a039-5665-4d1a-a8c6-8fe09e0b8754",
   "metadata": {},
   "outputs": [],
   "source": [
    "def recommender(song_name):\n",
    "    idx = df[df['song'] == song_name].index[0]\n",
    "    distance = sorted(list(enumerate(similar[idx])), reverse = True, key = lambda x:x[1])\n",
    "    song = []\n",
    "    for s_id in distance[1:5]:\n",
    "        song.append(df.iloc[s_id[0]].song)\n",
    "    return song"
   ]
  },
  {
   "cell_type": "code",
   "execution_count": 23,
   "id": "7acb8a5d-194d-4d6e-a296-fe3f1ffd7435",
   "metadata": {},
   "outputs": [
    {
     "data": {
      "text/plain": [
       "[\"Somethin' 'bout The Goldie In Me\",\n",
       " \"Can't Stop Thinkin' 'Bout You\",\n",
       " 'Get Your Number',\n",
       " \"Talkin' 'Bout You\"]"
      ]
     },
     "execution_count": 23,
     "metadata": {},
     "output_type": "execute_result"
    }
   ],
   "source": [
    "recommender(\"Dangerous Woman\")"
   ]
  },
  {
   "cell_type": "code",
   "execution_count": 24,
   "id": "f3cbb8f7-82ff-4b75-affd-9b7f3adc5812",
   "metadata": {},
   "outputs": [],
   "source": [
    "import pickle"
   ]
  },
  {
   "cell_type": "code",
   "execution_count": 25,
   "id": "982c4705-2b69-445c-9488-a319a415a2fe",
   "metadata": {},
   "outputs": [],
   "source": [
    "pickle.dump(similar, open(\"similarity.pkl\", \"wb\"))"
   ]
  },
  {
   "cell_type": "code",
   "execution_count": 26,
   "id": "80db8ffa-31ac-4475-8bcf-f337bb779f8b",
   "metadata": {},
   "outputs": [],
   "source": [
    "pickle.dump(df, open(\"df.pkl\", \"wb\"))"
   ]
  },
  {
   "cell_type": "code",
   "execution_count": null,
   "id": "53d45ac3-cb09-4042-9e6a-01b9c52bb665",
   "metadata": {},
   "outputs": [],
   "source": []
  },
  {
   "cell_type": "code",
   "execution_count": null,
   "id": "f7e08598-540c-49fd-9761-78299330327d",
   "metadata": {},
   "outputs": [],
   "source": []
  }
 ],
 "metadata": {
  "kernelspec": {
   "display_name": "Python 3",
   "language": "python",
   "name": "python3"
  },
  "language_info": {
   "codemirror_mode": {
    "name": "ipython",
    "version": 3
   },
   "file_extension": ".py",
   "mimetype": "text/x-python",
   "name": "python",
   "nbconvert_exporter": "python",
   "pygments_lexer": "ipython3",
   "version": "3.13.2"
  }
 },
 "nbformat": 4,
 "nbformat_minor": 5
}
